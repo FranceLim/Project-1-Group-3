{
 "cells": [
  {
   "cell_type": "code",
   "execution_count": 31,
   "metadata": {},
   "outputs": [],
   "source": [
    "# Import dependencies\n",
    "import pandas as pd\n",
    "from pathlib import Path"
   ]
  },
  {
   "cell_type": "code",
   "execution_count": 32,
   "metadata": {},
   "outputs": [
    {
     "data": {
      "text/html": [
       "<div>\n",
       "<style scoped>\n",
       "    .dataframe tbody tr th:only-of-type {\n",
       "        vertical-align: middle;\n",
       "    }\n",
       "\n",
       "    .dataframe tbody tr th {\n",
       "        vertical-align: top;\n",
       "    }\n",
       "\n",
       "    .dataframe thead th {\n",
       "        text-align: right;\n",
       "    }\n",
       "</style>\n",
       "<table border=\"1\" class=\"dataframe\">\n",
       "  <thead>\n",
       "    <tr style=\"text-align: right;\">\n",
       "      <th></th>\n",
       "      <th>Date_reported</th>\n",
       "      <th>Country_code</th>\n",
       "      <th>Country</th>\n",
       "      <th>WHO_region</th>\n",
       "      <th>New_cases</th>\n",
       "      <th>Cumulative_cases</th>\n",
       "      <th>New_deaths</th>\n",
       "      <th>Cumulative_deaths</th>\n",
       "    </tr>\n",
       "  </thead>\n",
       "  <tbody>\n",
       "    <tr>\n",
       "      <th>0</th>\n",
       "      <td>2020-01-03</td>\n",
       "      <td>AF</td>\n",
       "      <td>Afghanistan</td>\n",
       "      <td>EMRO</td>\n",
       "      <td>0</td>\n",
       "      <td>0</td>\n",
       "      <td>0</td>\n",
       "      <td>0</td>\n",
       "    </tr>\n",
       "    <tr>\n",
       "      <th>1</th>\n",
       "      <td>2020-01-04</td>\n",
       "      <td>AF</td>\n",
       "      <td>Afghanistan</td>\n",
       "      <td>EMRO</td>\n",
       "      <td>0</td>\n",
       "      <td>0</td>\n",
       "      <td>0</td>\n",
       "      <td>0</td>\n",
       "    </tr>\n",
       "    <tr>\n",
       "      <th>2</th>\n",
       "      <td>2020-01-05</td>\n",
       "      <td>AF</td>\n",
       "      <td>Afghanistan</td>\n",
       "      <td>EMRO</td>\n",
       "      <td>0</td>\n",
       "      <td>0</td>\n",
       "      <td>0</td>\n",
       "      <td>0</td>\n",
       "    </tr>\n",
       "    <tr>\n",
       "      <th>3</th>\n",
       "      <td>2020-01-06</td>\n",
       "      <td>AF</td>\n",
       "      <td>Afghanistan</td>\n",
       "      <td>EMRO</td>\n",
       "      <td>0</td>\n",
       "      <td>0</td>\n",
       "      <td>0</td>\n",
       "      <td>0</td>\n",
       "    </tr>\n",
       "    <tr>\n",
       "      <th>4</th>\n",
       "      <td>2020-01-07</td>\n",
       "      <td>AF</td>\n",
       "      <td>Afghanistan</td>\n",
       "      <td>EMRO</td>\n",
       "      <td>0</td>\n",
       "      <td>0</td>\n",
       "      <td>0</td>\n",
       "      <td>0</td>\n",
       "    </tr>\n",
       "  </tbody>\n",
       "</table>\n",
       "</div>"
      ],
      "text/plain": [
       "  Date_reported Country_code      Country WHO_region  New_cases  \\\n",
       "0    2020-01-03           AF  Afghanistan       EMRO          0   \n",
       "1    2020-01-04           AF  Afghanistan       EMRO          0   \n",
       "2    2020-01-05           AF  Afghanistan       EMRO          0   \n",
       "3    2020-01-06           AF  Afghanistan       EMRO          0   \n",
       "4    2020-01-07           AF  Afghanistan       EMRO          0   \n",
       "\n",
       "   Cumulative_cases  New_deaths  Cumulative_deaths  \n",
       "0                 0           0                  0  \n",
       "1                 0           0                  0  \n",
       "2                 0           0                  0  \n",
       "3                 0           0                  0  \n",
       "4                 0           0                  0  "
      ]
     },
     "execution_count": 32,
     "metadata": {},
     "output_type": "execute_result"
    }
   ],
   "source": [
    "# Load the file\n",
    "csv = Path('../Project 1 - Group 3/Resources/WHO-COVID-19-global-data.csv')\n",
    "\n",
    "# Read data set\n",
    "who_data = pd.read_csv(csv)\n",
    "\n",
    "who_data.head()"
   ]
  },
  {
   "cell_type": "code",
   "execution_count": 33,
   "metadata": {},
   "outputs": [
    {
     "data": {
      "text/html": [
       "<div>\n",
       "<style scoped>\n",
       "    .dataframe tbody tr th:only-of-type {\n",
       "        vertical-align: middle;\n",
       "    }\n",
       "\n",
       "    .dataframe tbody tr th {\n",
       "        vertical-align: top;\n",
       "    }\n",
       "\n",
       "    .dataframe thead th {\n",
       "        text-align: right;\n",
       "    }\n",
       "</style>\n",
       "<table border=\"1\" class=\"dataframe\">\n",
       "  <thead>\n",
       "    <tr style=\"text-align: right;\">\n",
       "      <th></th>\n",
       "      <th>Date_reported</th>\n",
       "      <th>Country</th>\n",
       "      <th>Cumulative_cases</th>\n",
       "      <th>New_deaths</th>\n",
       "      <th>Cumulative_deaths</th>\n",
       "    </tr>\n",
       "  </thead>\n",
       "  <tbody>\n",
       "    <tr>\n",
       "      <th>0</th>\n",
       "      <td>2020-01-03</td>\n",
       "      <td>Afghanistan</td>\n",
       "      <td>0</td>\n",
       "      <td>0</td>\n",
       "      <td>0</td>\n",
       "    </tr>\n",
       "    <tr>\n",
       "      <th>1</th>\n",
       "      <td>2020-01-04</td>\n",
       "      <td>Afghanistan</td>\n",
       "      <td>0</td>\n",
       "      <td>0</td>\n",
       "      <td>0</td>\n",
       "    </tr>\n",
       "    <tr>\n",
       "      <th>2</th>\n",
       "      <td>2020-01-05</td>\n",
       "      <td>Afghanistan</td>\n",
       "      <td>0</td>\n",
       "      <td>0</td>\n",
       "      <td>0</td>\n",
       "    </tr>\n",
       "    <tr>\n",
       "      <th>3</th>\n",
       "      <td>2020-01-06</td>\n",
       "      <td>Afghanistan</td>\n",
       "      <td>0</td>\n",
       "      <td>0</td>\n",
       "      <td>0</td>\n",
       "    </tr>\n",
       "    <tr>\n",
       "      <th>4</th>\n",
       "      <td>2020-01-07</td>\n",
       "      <td>Afghanistan</td>\n",
       "      <td>0</td>\n",
       "      <td>0</td>\n",
       "      <td>0</td>\n",
       "    </tr>\n",
       "    <tr>\n",
       "      <th>...</th>\n",
       "      <td>...</td>\n",
       "      <td>...</td>\n",
       "      <td>...</td>\n",
       "      <td>...</td>\n",
       "      <td>...</td>\n",
       "    </tr>\n",
       "    <tr>\n",
       "      <th>311650</th>\n",
       "      <td>2023-08-05</td>\n",
       "      <td>Zimbabwe</td>\n",
       "      <td>265693</td>\n",
       "      <td>0</td>\n",
       "      <td>5712</td>\n",
       "    </tr>\n",
       "    <tr>\n",
       "      <th>311651</th>\n",
       "      <td>2023-08-06</td>\n",
       "      <td>Zimbabwe</td>\n",
       "      <td>265693</td>\n",
       "      <td>0</td>\n",
       "      <td>5712</td>\n",
       "    </tr>\n",
       "    <tr>\n",
       "      <th>311652</th>\n",
       "      <td>2023-08-07</td>\n",
       "      <td>Zimbabwe</td>\n",
       "      <td>265693</td>\n",
       "      <td>0</td>\n",
       "      <td>5712</td>\n",
       "    </tr>\n",
       "    <tr>\n",
       "      <th>311653</th>\n",
       "      <td>2023-08-08</td>\n",
       "      <td>Zimbabwe</td>\n",
       "      <td>265693</td>\n",
       "      <td>0</td>\n",
       "      <td>5712</td>\n",
       "    </tr>\n",
       "    <tr>\n",
       "      <th>311654</th>\n",
       "      <td>2023-08-09</td>\n",
       "      <td>Zimbabwe</td>\n",
       "      <td>265693</td>\n",
       "      <td>0</td>\n",
       "      <td>5712</td>\n",
       "    </tr>\n",
       "  </tbody>\n",
       "</table>\n",
       "<p>311655 rows × 5 columns</p>\n",
       "</div>"
      ],
      "text/plain": [
       "       Date_reported      Country  Cumulative_cases  New_deaths  \\\n",
       "0         2020-01-03  Afghanistan                 0           0   \n",
       "1         2020-01-04  Afghanistan                 0           0   \n",
       "2         2020-01-05  Afghanistan                 0           0   \n",
       "3         2020-01-06  Afghanistan                 0           0   \n",
       "4         2020-01-07  Afghanistan                 0           0   \n",
       "...              ...          ...               ...         ...   \n",
       "311650    2023-08-05     Zimbabwe            265693           0   \n",
       "311651    2023-08-06     Zimbabwe            265693           0   \n",
       "311652    2023-08-07     Zimbabwe            265693           0   \n",
       "311653    2023-08-08     Zimbabwe            265693           0   \n",
       "311654    2023-08-09     Zimbabwe            265693           0   \n",
       "\n",
       "        Cumulative_deaths  \n",
       "0                       0  \n",
       "1                       0  \n",
       "2                       0  \n",
       "3                       0  \n",
       "4                       0  \n",
       "...                   ...  \n",
       "311650               5712  \n",
       "311651               5712  \n",
       "311652               5712  \n",
       "311653               5712  \n",
       "311654               5712  \n",
       "\n",
       "[311655 rows x 5 columns]"
      ]
     },
     "execution_count": 33,
     "metadata": {},
     "output_type": "execute_result"
    }
   ],
   "source": [
    "cleaned_who_data = who_data[['Date_reported', 'Country', 'Cumulative_cases', 'New_deaths', 'Cumulative_deaths']]\n",
    "\n",
    "cleaned_who_data"
   ]
  },
  {
   "cell_type": "code",
   "execution_count": 40,
   "metadata": {},
   "outputs": [
    {
     "data": {
      "text/plain": [
       "Date_reported        2020-01-032020-01-042020-01-052020-01-062020-0...\n",
       "Country              ItalyItalyItalyItalyItalyItalyItalyItalyItalyI...\n",
       "Cumulative_cases                                           14016229076\n",
       "New_deaths                                                      191053\n",
       "Cumulative_deaths                                            156876105\n",
       "dtype: object"
      ]
     },
     "execution_count": 40,
     "metadata": {},
     "output_type": "execute_result"
    }
   ],
   "source": [
    "italy_who_data = cleaned_who_data[cleaned_who_data['Country']=='Italy']\n",
    "italy_who_data.sum()\n"
   ]
  },
  {
   "cell_type": "code",
   "execution_count": 41,
   "metadata": {},
   "outputs": [
    {
     "data": {
      "text/plain": [
       "14016229076"
      ]
     },
     "execution_count": 41,
     "metadata": {},
     "output_type": "execute_result"
    }
   ],
   "source": [
    "italy_who_data['Cumulative_cases'].sum()\n"
   ]
  },
  {
   "cell_type": "code",
   "execution_count": 42,
   "metadata": {},
   "outputs": [
    {
     "data": {
      "text/plain": [
       "156876105"
      ]
     },
     "execution_count": 42,
     "metadata": {},
     "output_type": "execute_result"
    }
   ],
   "source": [
    "italy_who_data['Cumulative_deaths'].sum()"
   ]
  },
  {
   "cell_type": "code",
   "execution_count": 11,
   "metadata": {},
   "outputs": [
    {
     "data": {
      "text/html": [
       "<div>\n",
       "<style scoped>\n",
       "    .dataframe tbody tr th:only-of-type {\n",
       "        vertical-align: middle;\n",
       "    }\n",
       "\n",
       "    .dataframe tbody tr th {\n",
       "        vertical-align: top;\n",
       "    }\n",
       "\n",
       "    .dataframe thead th {\n",
       "        text-align: right;\n",
       "    }\n",
       "</style>\n",
       "<table border=\"1\" class=\"dataframe\">\n",
       "  <thead>\n",
       "    <tr style=\"text-align: right;\">\n",
       "      <th></th>\n",
       "      <th>Date_reported</th>\n",
       "      <th>Country</th>\n",
       "      <th>Cumulative_cases</th>\n",
       "      <th>New_deaths</th>\n",
       "      <th>Cumulative_deaths</th>\n",
       "    </tr>\n",
       "  </thead>\n",
       "  <tbody>\n",
       "    <tr>\n",
       "      <th>297190</th>\n",
       "      <td>2020-01-03</td>\n",
       "      <td>United States of America</td>\n",
       "      <td>0</td>\n",
       "      <td>0</td>\n",
       "      <td>0</td>\n",
       "    </tr>\n",
       "    <tr>\n",
       "      <th>297191</th>\n",
       "      <td>2020-01-04</td>\n",
       "      <td>United States of America</td>\n",
       "      <td>0</td>\n",
       "      <td>0</td>\n",
       "      <td>0</td>\n",
       "    </tr>\n",
       "    <tr>\n",
       "      <th>297192</th>\n",
       "      <td>2020-01-05</td>\n",
       "      <td>United States of America</td>\n",
       "      <td>0</td>\n",
       "      <td>0</td>\n",
       "      <td>0</td>\n",
       "    </tr>\n",
       "    <tr>\n",
       "      <th>297193</th>\n",
       "      <td>2020-01-06</td>\n",
       "      <td>United States of America</td>\n",
       "      <td>0</td>\n",
       "      <td>0</td>\n",
       "      <td>0</td>\n",
       "    </tr>\n",
       "    <tr>\n",
       "      <th>297194</th>\n",
       "      <td>2020-01-07</td>\n",
       "      <td>United States of America</td>\n",
       "      <td>0</td>\n",
       "      <td>0</td>\n",
       "      <td>0</td>\n",
       "    </tr>\n",
       "    <tr>\n",
       "      <th>...</th>\n",
       "      <td>...</td>\n",
       "      <td>...</td>\n",
       "      <td>...</td>\n",
       "      <td>...</td>\n",
       "      <td>...</td>\n",
       "    </tr>\n",
       "    <tr>\n",
       "      <th>298500</th>\n",
       "      <td>2023-08-05</td>\n",
       "      <td>United States of America</td>\n",
       "      <td>103436829</td>\n",
       "      <td>0</td>\n",
       "      <td>1127152</td>\n",
       "    </tr>\n",
       "    <tr>\n",
       "      <th>298501</th>\n",
       "      <td>2023-08-06</td>\n",
       "      <td>United States of America</td>\n",
       "      <td>103436829</td>\n",
       "      <td>0</td>\n",
       "      <td>1127152</td>\n",
       "    </tr>\n",
       "    <tr>\n",
       "      <th>298502</th>\n",
       "      <td>2023-08-07</td>\n",
       "      <td>United States of America</td>\n",
       "      <td>103436829</td>\n",
       "      <td>0</td>\n",
       "      <td>1127152</td>\n",
       "    </tr>\n",
       "    <tr>\n",
       "      <th>298503</th>\n",
       "      <td>2023-08-08</td>\n",
       "      <td>United States of America</td>\n",
       "      <td>103436829</td>\n",
       "      <td>0</td>\n",
       "      <td>1127152</td>\n",
       "    </tr>\n",
       "    <tr>\n",
       "      <th>298504</th>\n",
       "      <td>2023-08-09</td>\n",
       "      <td>United States of America</td>\n",
       "      <td>103436829</td>\n",
       "      <td>0</td>\n",
       "      <td>1127152</td>\n",
       "    </tr>\n",
       "  </tbody>\n",
       "</table>\n",
       "<p>1315 rows × 5 columns</p>\n",
       "</div>"
      ],
      "text/plain": [
       "       Date_reported                   Country  Cumulative_cases  New_deaths  \\\n",
       "297190    2020-01-03  United States of America                 0           0   \n",
       "297191    2020-01-04  United States of America                 0           0   \n",
       "297192    2020-01-05  United States of America                 0           0   \n",
       "297193    2020-01-06  United States of America                 0           0   \n",
       "297194    2020-01-07  United States of America                 0           0   \n",
       "...              ...                       ...               ...         ...   \n",
       "298500    2023-08-05  United States of America         103436829           0   \n",
       "298501    2023-08-06  United States of America         103436829           0   \n",
       "298502    2023-08-07  United States of America         103436829           0   \n",
       "298503    2023-08-08  United States of America         103436829           0   \n",
       "298504    2023-08-09  United States of America         103436829           0   \n",
       "\n",
       "        Cumulative_deaths  \n",
       "297190                  0  \n",
       "297191                  0  \n",
       "297192                  0  \n",
       "297193                  0  \n",
       "297194                  0  \n",
       "...                   ...  \n",
       "298500            1127152  \n",
       "298501            1127152  \n",
       "298502            1127152  \n",
       "298503            1127152  \n",
       "298504            1127152  \n",
       "\n",
       "[1315 rows x 5 columns]"
      ]
     },
     "execution_count": 11,
     "metadata": {},
     "output_type": "execute_result"
    }
   ],
   "source": [
    "us_who_data = cleaned_who_data[cleaned_who_data['Country']=='United States of America']\n",
    "us_who_data\n"
   ]
  },
  {
   "cell_type": "code",
   "execution_count": 29,
   "metadata": {},
   "outputs": [
    {
     "data": {
      "text/plain": [
       "68840672660"
      ]
     },
     "execution_count": 29,
     "metadata": {},
     "output_type": "execute_result"
    }
   ],
   "source": [
    "us_who_data_mean = us_who_data['Cumulative_cases'].sum()\n",
    "us_who_data_mean"
   ]
  },
  {
   "cell_type": "code",
   "execution_count": 30,
   "metadata": {},
   "outputs": [
    {
     "data": {
      "text/plain": [
       "882624633"
      ]
     },
     "execution_count": 30,
     "metadata": {},
     "output_type": "execute_result"
    }
   ],
   "source": [
    "us_who_data_deaths = us_who_data['Cumulative_deaths'].sum()\n",
    "us_who_data_deaths"
   ]
  },
  {
   "cell_type": "code",
   "execution_count": 46,
   "metadata": {},
   "outputs": [
    {
     "data": {
      "text/plain": [
       "Date_reported        2020-01-032020-01-042020-01-052020-01-062020-0...\n",
       "Country              ChinaChinaChinaChinaChinaChinaChinaChinaChinaC...\n",
       "Cumulative_cases                                           24225052018\n",
       "New_deaths                                                      121628\n",
       "Cumulative_deaths                                             36392942\n",
       "dtype: object"
      ]
     },
     "execution_count": 46,
     "metadata": {},
     "output_type": "execute_result"
    }
   ],
   "source": [
    "china_who_data = cleaned_who_data[cleaned_who_data['Country']=='China']\n",
    "china_who_data.sum()"
   ]
  },
  {
   "cell_type": "code",
   "execution_count": 47,
   "metadata": {},
   "outputs": [
    {
     "data": {
      "text/plain": [
       "24225052018"
      ]
     },
     "execution_count": 47,
     "metadata": {},
     "output_type": "execute_result"
    }
   ],
   "source": [
    "china_who_data['Cumulative_cases'].sum()\n"
   ]
  },
  {
   "cell_type": "code",
   "execution_count": 48,
   "metadata": {},
   "outputs": [
    {
     "data": {
      "text/plain": [
       "36392942"
      ]
     },
     "execution_count": 48,
     "metadata": {},
     "output_type": "execute_result"
    }
   ],
   "source": [
    "china_who_data['Cumulative_deaths'].sum()"
   ]
  }
 ],
 "metadata": {
  "kernelspec": {
   "display_name": "dev",
   "language": "python",
   "name": "python3"
  },
  "language_info": {
   "codemirror_mode": {
    "name": "ipython",
    "version": 3
   },
   "file_extension": ".py",
   "mimetype": "text/x-python",
   "name": "python",
   "nbconvert_exporter": "python",
   "pygments_lexer": "ipython3",
   "version": "3.10.12"
  },
  "orig_nbformat": 4
 },
 "nbformat": 4,
 "nbformat_minor": 2
}
