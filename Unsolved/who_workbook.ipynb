{
 "cells": [
  {
   "cell_type": "code",
   "execution_count": 1,
   "metadata": {},
   "outputs": [],
   "source": [
    "%matplotlib widget"
   ]
  },
  {
   "cell_type": "code",
   "execution_count": 2,
   "metadata": {},
   "outputs": [],
   "source": [
    "# Import dependencies\n",
    "import matplotlib.pyplot as plt\n",
    "import numpy as np\n",
    "import pandas as pd\n",
    "from pathlib import Path"
   ]
  },
  {
   "cell_type": "code",
   "execution_count": 3,
   "metadata": {},
   "outputs": [
    {
     "data": {
      "text/html": [
       "<div>\n",
       "<style scoped>\n",
       "    .dataframe tbody tr th:only-of-type {\n",
       "        vertical-align: middle;\n",
       "    }\n",
       "\n",
       "    .dataframe tbody tr th {\n",
       "        vertical-align: top;\n",
       "    }\n",
       "\n",
       "    .dataframe thead th {\n",
       "        text-align: right;\n",
       "    }\n",
       "</style>\n",
       "<table border=\"1\" class=\"dataframe\">\n",
       "  <thead>\n",
       "    <tr style=\"text-align: right;\">\n",
       "      <th></th>\n",
       "      <th>Date_reported</th>\n",
       "      <th>Country_code</th>\n",
       "      <th>Country</th>\n",
       "      <th>WHO_region</th>\n",
       "      <th>New_cases</th>\n",
       "      <th>Cumulative_cases</th>\n",
       "      <th>New_deaths</th>\n",
       "      <th>Cumulative_deaths</th>\n",
       "    </tr>\n",
       "  </thead>\n",
       "  <tbody>\n",
       "    <tr>\n",
       "      <th>0</th>\n",
       "      <td>2020-01-03</td>\n",
       "      <td>AF</td>\n",
       "      <td>Afghanistan</td>\n",
       "      <td>EMRO</td>\n",
       "      <td>0</td>\n",
       "      <td>0</td>\n",
       "      <td>0</td>\n",
       "      <td>0</td>\n",
       "    </tr>\n",
       "    <tr>\n",
       "      <th>1</th>\n",
       "      <td>2020-01-04</td>\n",
       "      <td>AF</td>\n",
       "      <td>Afghanistan</td>\n",
       "      <td>EMRO</td>\n",
       "      <td>0</td>\n",
       "      <td>0</td>\n",
       "      <td>0</td>\n",
       "      <td>0</td>\n",
       "    </tr>\n",
       "    <tr>\n",
       "      <th>2</th>\n",
       "      <td>2020-01-05</td>\n",
       "      <td>AF</td>\n",
       "      <td>Afghanistan</td>\n",
       "      <td>EMRO</td>\n",
       "      <td>0</td>\n",
       "      <td>0</td>\n",
       "      <td>0</td>\n",
       "      <td>0</td>\n",
       "    </tr>\n",
       "    <tr>\n",
       "      <th>3</th>\n",
       "      <td>2020-01-06</td>\n",
       "      <td>AF</td>\n",
       "      <td>Afghanistan</td>\n",
       "      <td>EMRO</td>\n",
       "      <td>0</td>\n",
       "      <td>0</td>\n",
       "      <td>0</td>\n",
       "      <td>0</td>\n",
       "    </tr>\n",
       "    <tr>\n",
       "      <th>4</th>\n",
       "      <td>2020-01-07</td>\n",
       "      <td>AF</td>\n",
       "      <td>Afghanistan</td>\n",
       "      <td>EMRO</td>\n",
       "      <td>0</td>\n",
       "      <td>0</td>\n",
       "      <td>0</td>\n",
       "      <td>0</td>\n",
       "    </tr>\n",
       "  </tbody>\n",
       "</table>\n",
       "</div>"
      ],
      "text/plain": [
       "  Date_reported Country_code      Country WHO_region  New_cases  \\\n",
       "0    2020-01-03           AF  Afghanistan       EMRO          0   \n",
       "1    2020-01-04           AF  Afghanistan       EMRO          0   \n",
       "2    2020-01-05           AF  Afghanistan       EMRO          0   \n",
       "3    2020-01-06           AF  Afghanistan       EMRO          0   \n",
       "4    2020-01-07           AF  Afghanistan       EMRO          0   \n",
       "\n",
       "   Cumulative_cases  New_deaths  Cumulative_deaths  \n",
       "0                 0           0                  0  \n",
       "1                 0           0                  0  \n",
       "2                 0           0                  0  \n",
       "3                 0           0                  0  \n",
       "4                 0           0                  0  "
      ]
     },
     "execution_count": 3,
     "metadata": {},
     "output_type": "execute_result"
    }
   ],
   "source": [
    "# Load the file\n",
    "csv = Path('../Project 1 - Group 3/Resources/WHO-COVID-19-global-data.csv')\n",
    "\n",
    "# Read data set\n",
    "who_data = pd.read_csv(csv)\n",
    "\n",
    "who_data.head()"
   ]
  },
  {
   "cell_type": "code",
   "execution_count": 4,
   "metadata": {},
   "outputs": [
    {
     "data": {
      "text/html": [
       "<div>\n",
       "<style scoped>\n",
       "    .dataframe tbody tr th:only-of-type {\n",
       "        vertical-align: middle;\n",
       "    }\n",
       "\n",
       "    .dataframe tbody tr th {\n",
       "        vertical-align: top;\n",
       "    }\n",
       "\n",
       "    .dataframe thead th {\n",
       "        text-align: right;\n",
       "    }\n",
       "</style>\n",
       "<table border=\"1\" class=\"dataframe\">\n",
       "  <thead>\n",
       "    <tr style=\"text-align: right;\">\n",
       "      <th></th>\n",
       "      <th>Date_reported</th>\n",
       "      <th>Country</th>\n",
       "      <th>Cumulative_deaths</th>\n",
       "    </tr>\n",
       "  </thead>\n",
       "  <tbody>\n",
       "    <tr>\n",
       "      <th>0</th>\n",
       "      <td>2020-01-03</td>\n",
       "      <td>Afghanistan</td>\n",
       "      <td>0</td>\n",
       "    </tr>\n",
       "    <tr>\n",
       "      <th>1</th>\n",
       "      <td>2020-01-04</td>\n",
       "      <td>Afghanistan</td>\n",
       "      <td>0</td>\n",
       "    </tr>\n",
       "    <tr>\n",
       "      <th>2</th>\n",
       "      <td>2020-01-05</td>\n",
       "      <td>Afghanistan</td>\n",
       "      <td>0</td>\n",
       "    </tr>\n",
       "    <tr>\n",
       "      <th>3</th>\n",
       "      <td>2020-01-06</td>\n",
       "      <td>Afghanistan</td>\n",
       "      <td>0</td>\n",
       "    </tr>\n",
       "    <tr>\n",
       "      <th>4</th>\n",
       "      <td>2020-01-07</td>\n",
       "      <td>Afghanistan</td>\n",
       "      <td>0</td>\n",
       "    </tr>\n",
       "    <tr>\n",
       "      <th>...</th>\n",
       "      <td>...</td>\n",
       "      <td>...</td>\n",
       "      <td>...</td>\n",
       "    </tr>\n",
       "    <tr>\n",
       "      <th>311650</th>\n",
       "      <td>2023-08-05</td>\n",
       "      <td>Zimbabwe</td>\n",
       "      <td>5712</td>\n",
       "    </tr>\n",
       "    <tr>\n",
       "      <th>311651</th>\n",
       "      <td>2023-08-06</td>\n",
       "      <td>Zimbabwe</td>\n",
       "      <td>5712</td>\n",
       "    </tr>\n",
       "    <tr>\n",
       "      <th>311652</th>\n",
       "      <td>2023-08-07</td>\n",
       "      <td>Zimbabwe</td>\n",
       "      <td>5712</td>\n",
       "    </tr>\n",
       "    <tr>\n",
       "      <th>311653</th>\n",
       "      <td>2023-08-08</td>\n",
       "      <td>Zimbabwe</td>\n",
       "      <td>5712</td>\n",
       "    </tr>\n",
       "    <tr>\n",
       "      <th>311654</th>\n",
       "      <td>2023-08-09</td>\n",
       "      <td>Zimbabwe</td>\n",
       "      <td>5712</td>\n",
       "    </tr>\n",
       "  </tbody>\n",
       "</table>\n",
       "<p>311655 rows × 3 columns</p>\n",
       "</div>"
      ],
      "text/plain": [
       "       Date_reported      Country  Cumulative_deaths\n",
       "0         2020-01-03  Afghanistan                  0\n",
       "1         2020-01-04  Afghanistan                  0\n",
       "2         2020-01-05  Afghanistan                  0\n",
       "3         2020-01-06  Afghanistan                  0\n",
       "4         2020-01-07  Afghanistan                  0\n",
       "...              ...          ...                ...\n",
       "311650    2023-08-05     Zimbabwe               5712\n",
       "311651    2023-08-06     Zimbabwe               5712\n",
       "311652    2023-08-07     Zimbabwe               5712\n",
       "311653    2023-08-08     Zimbabwe               5712\n",
       "311654    2023-08-09     Zimbabwe               5712\n",
       "\n",
       "[311655 rows x 3 columns]"
      ]
     },
     "execution_count": 4,
     "metadata": {},
     "output_type": "execute_result"
    }
   ],
   "source": [
    "cleaned_who_data = who_data.set_index('Date_reported')\n",
    "cleaned_who_data = who_data[['Date_reported', 'Country','Cumulative_deaths']]\n",
    "cleaned_who_data"
   ]
  },
  {
   "cell_type": "code",
   "execution_count": 5,
   "metadata": {},
   "outputs": [
    {
     "data": {
      "text/plain": [
       "Date_reported        2020-01-032020-01-042020-01-052020-01-062020-0...\n",
       "Country              ItalyItalyItalyItalyItalyItalyItalyItalyItalyI...\n",
       "Cumulative_deaths                                            156876105\n",
       "dtype: object"
      ]
     },
     "execution_count": 5,
     "metadata": {},
     "output_type": "execute_result"
    }
   ],
   "source": [
    "italy_who_data = cleaned_who_data[cleaned_who_data['Country']=='Italy']\n",
    "# italy_who_data = cleaned_who_data.set_index('Date_reported')\n",
    "italy_who_data.sum()\n"
   ]
  },
  {
   "cell_type": "code",
   "execution_count": 10,
   "metadata": {},
   "outputs": [
    {
     "ename": "KeyError",
     "evalue": "\"None of ['Date_reported'] are in the columns\"",
     "output_type": "error",
     "traceback": [
      "\u001b[1;31m---------------------------------------------------------------------------\u001b[0m",
      "\u001b[1;31mKeyError\u001b[0m                                  Traceback (most recent call last)",
      "Cell \u001b[1;32mIn[10], line 1\u001b[0m\n\u001b[1;32m----> 1\u001b[0m italy_who_data \u001b[39m=\u001b[39m italy_who_data\u001b[39m.\u001b[39;49mset_index(\u001b[39m'\u001b[39;49m\u001b[39mDate_reported\u001b[39;49m\u001b[39m'\u001b[39;49m)\n",
      "File \u001b[1;32mc:\\Users\\Franc\\anaconda3\\envs\\dev\\lib\\site-packages\\pandas\\util\\_decorators.py:331\u001b[0m, in \u001b[0;36mdeprecate_nonkeyword_arguments.<locals>.decorate.<locals>.wrapper\u001b[1;34m(*args, **kwargs)\u001b[0m\n\u001b[0;32m    325\u001b[0m \u001b[39mif\u001b[39;00m \u001b[39mlen\u001b[39m(args) \u001b[39m>\u001b[39m num_allow_args:\n\u001b[0;32m    326\u001b[0m     warnings\u001b[39m.\u001b[39mwarn(\n\u001b[0;32m    327\u001b[0m         msg\u001b[39m.\u001b[39mformat(arguments\u001b[39m=\u001b[39m_format_argument_list(allow_args)),\n\u001b[0;32m    328\u001b[0m         \u001b[39mFutureWarning\u001b[39;00m,\n\u001b[0;32m    329\u001b[0m         stacklevel\u001b[39m=\u001b[39mfind_stack_level(),\n\u001b[0;32m    330\u001b[0m     )\n\u001b[1;32m--> 331\u001b[0m \u001b[39mreturn\u001b[39;00m func(\u001b[39m*\u001b[39margs, \u001b[39m*\u001b[39m\u001b[39m*\u001b[39mkwargs)\n",
      "File \u001b[1;32mc:\\Users\\Franc\\anaconda3\\envs\\dev\\lib\\site-packages\\pandas\\core\\frame.py:6012\u001b[0m, in \u001b[0;36mDataFrame.set_index\u001b[1;34m(self, keys, drop, append, inplace, verify_integrity)\u001b[0m\n\u001b[0;32m   6009\u001b[0m                 missing\u001b[39m.\u001b[39mappend(col)\n\u001b[0;32m   6011\u001b[0m \u001b[39mif\u001b[39;00m missing:\n\u001b[1;32m-> 6012\u001b[0m     \u001b[39mraise\u001b[39;00m \u001b[39mKeyError\u001b[39;00m(\u001b[39mf\u001b[39m\u001b[39m\"\u001b[39m\u001b[39mNone of \u001b[39m\u001b[39m{\u001b[39;00mmissing\u001b[39m}\u001b[39;00m\u001b[39m are in the columns\u001b[39m\u001b[39m\"\u001b[39m)\n\u001b[0;32m   6014\u001b[0m \u001b[39mif\u001b[39;00m inplace:\n\u001b[0;32m   6015\u001b[0m     frame \u001b[39m=\u001b[39m \u001b[39mself\u001b[39m\n",
      "\u001b[1;31mKeyError\u001b[0m: \"None of ['Date_reported'] are in the columns\""
     ]
    }
   ],
   "source": [
    "italy_who_data = italy_who_data.set_index('Date_reported')\n",
    "#italy_who_data.head()"
   ]
  },
  {
   "cell_type": "code",
   "execution_count": 17,
   "metadata": {},
   "outputs": [],
   "source": [
    "italy_who_data.index = pd.to_datetime(italy_who_data.index)"
   ]
  },
  {
   "cell_type": "code",
   "execution_count": 7,
   "metadata": {},
   "outputs": [
    {
     "data": {
      "text/plain": [
       "14016229076"
      ]
     },
     "execution_count": 7,
     "metadata": {},
     "output_type": "execute_result"
    }
   ],
   "source": [
    "italy_who_data['Cumulative_cases'].sum()\n"
   ]
  },
  {
   "cell_type": "code",
   "execution_count": 8,
   "metadata": {},
   "outputs": [
    {
     "data": {
      "text/plain": [
       "156876105"
      ]
     },
     "execution_count": 8,
     "metadata": {},
     "output_type": "execute_result"
    }
   ],
   "source": [
    "italy_who_data['Cumulative_deaths'].sum()"
   ]
  },
  {
   "cell_type": "code",
   "execution_count": 9,
   "metadata": {},
   "outputs": [],
   "source": [
    "# Get the total cumulative deaths in Italy\n",
    "italy_cum_deaths = italy_who_data['Cumulative_deaths']"
   ]
  },
  {
   "cell_type": "code",
   "execution_count": 10,
   "metadata": {},
   "outputs": [
    {
     "data": {
      "text/plain": [
       "Date_reported\n",
       "2020-01-03    0\n",
       "2020-01-04    0\n",
       "2020-01-05    0\n",
       "2020-01-06    0\n",
       "2020-01-07    0\n",
       "Name: Cumulative_deaths, dtype: int64"
      ]
     },
     "execution_count": 10,
     "metadata": {},
     "output_type": "execute_result"
    }
   ],
   "source": [
    "italy_cum_deaths.head()"
   ]
  },
  {
   "cell_type": "code",
   "execution_count": 18,
   "metadata": {},
   "outputs": [
    {
     "data": {
      "application/vnd.jupyter.widget-view+json": {
       "model_id": "3bde5a8cb1a64cecbe6f8e1d6f21090c",
       "version_major": 2,
       "version_minor": 0
      },
      "image/png": "[encoded data removed]",
      "text/html": [
       "\n",
       "            <div style=\"display: inline-block;\">\n",
       "                <div class=\"jupyter-widgets widget-label\" style=\"text-align: center;\">\n",
       "                    Figure 1\n",
       "                </div>\n",
       "                <img src='data:image/png;base64,iVBORw0KGgoAAAANSUhEUgAAAoAAAAHgCAYAAAA10dzkAAAAOXRFWHRTb2Z0d2FyZQBNYXRwbG90bGliIHZlcnNpb24zLjcuMSwgaHR0cHM6Ly9tYXRwbG90bGliLm9yZy/bCgiHAAAACXBIWXMAAA9hAAAPYQGoP6dpAABWZ0lEQVR4nO3de3wU9b3/8fcuSZYQwpoYks0ChptSMYACyq0aBLmZgHjDAo1BIXgDtISj4Pkpl1pRpNhTqJfaFttKoe0RUCumoNykhEuBCIggKhAuCYmQbAQh1+/vD5s5LAmQQJJNsq/n47EPd2c+853PTEL27czOrM0YYwQAAAC/Yfd1AwAAAKhdBEAAAAA/QwAEAADwMwRAAAAAP0MABAAA8DMEQAAAAD9DAAQAAPAzBEAAAAA/QwAEAADwMwRAAAAAP0MABAAA8DMEQAAAAD9DAAQAAPAzBEAAAAA/QwAEAADwMwRAAAAAP0MABAAA8DMEQAAAAD9DAAQAAPAzBEAAAAA/QwAEAADwMwRAAAAAP0MABAAA8DMEQAAAAD9DAAQAAPAzBEAAAAA/QwAEAADwMwRAAAAAP0MABAAA8DMEQAAAAD9DAAQAAPAzBEAAAAA/QwAEAADwMwRAAAAAP0MABAAA8DMEQAAAAD9DAARq0c6dO/XQQw+pTZs2aty4sZo2baquXbtqzpw5OnnypK/bu6gZM2bIZrNd1rIrVqzQjBkzKpzXunVrjRkz5vIbu0x9+/aVzWaTzWaT3W5XaGio2rdvr/vvv1//+7//q9LS0hrvYePGjZoxY4by8vLKzWvdurUSEhJqbN1r166VzWbT2rVrq23Mvn37KjY21mvaiy++qOXLl1/RuDab7YK/PwAuDwEQqCVvvfWWunXrpq1bt+q//uu/lJqaqmXLlun+++/XG2+8obFjx/q6xRqzYsUKzZw5s8J5y5Yt03PPPVfLHf2gbdu2SktL08aNG7V8+XJNnTpVZ86c0f3336++ffvK4/HU6Po3btyomTNnVhgAa1rXrl2Vlpamrl271uh6qiMAAqh+Ab5uAPAHaWlpeuyxxzRgwAAtX75cDofDmjdgwAClpKQoNTXVhx36zk033eSzdQcHB6tnz55e08aNG6eFCxfq4Ycf1vjx4/XXv/7VR93VrGbNmpXbdgD+gyOAQC148cUXZbPZ9Nvf/tYr/JUJCgrSsGHDrNcXOuV1/unSt99+WzabTatXr1ZycrKuvvpqNWvWTA8++KBOnz6trKwsjRgxQldddZWio6M1ZcoUFRUVWctf6DTgwYMHZbPZ9Pbbb190u/76179q4MCBio6OVnBwsK6//npNnTpVp0+ftmrGjBmj3/zmN9Z2lT0OHjxYbptycnIUFBRU4RHBvXv3ymaz6de//rU1LSsrS4888ohatmypoKAgtWnTRjNnzlRxcfFF+76Uhx56SHfeeaf+/ve/69ChQ9Z0Y4xee+013XjjjQoODlZYWJjuu+8+ffPNN17Lr1q1SnfddZdatmypxo0bq3379nrkkUf07bffWjUzZszQf/3Xf0mS2rRpY+2X838Wqamp6tq1q4KDg/WjH/1If/jDH7zmf//995oyZYr1sYLw8HB1795dixcvvug2VvSzHzNmjJo2baqvvvpKd955p5o2bapWrVopJSVFBQUFVdmFkn74eZ8+fVp//OMfre3r27evpB9+1o8//rg6duyopk2bKjIyUv369dOnn3560TEPHjyogIAAzZ49u9y89evXy2az6e9//3uVewX8DUcAgRpWUlKi1atXq1u3bmrVqlWNrGPcuHG65557tGTJEu3YsUPPPvusiouLtW/fPt1zzz0aP368Pv74Y7388styu92aPHlytax3//79uvPOO/XUU08pJCREe/fu1csvv6wtW7Zo9erVkqTnnntOp0+f1v/+7/8qLS3NWjY6OrrceM2bN1dCQoL++Mc/aubMmbLb/+//URcuXKigoCCNHj1a0g/h75ZbbpHdbtfzzz+vdu3aKS0tTS+88IIOHjyohQsXXtG2DRs2TCtWrNCnn36qmJgYSdIjjzyit99+W5MmTdLLL7+skydPatasWerdu7c+++wzRUVFSZK+/vpr9erVS+PGjZPT6dTBgwc1b948/fjHP9auXbsUGBiocePG6eTJk5o/f76WLl1q7Y+OHTtaPXz22WdKSUnR1KlTFRUVpd/97ncaO3as2rdvr9tuu02SNHnyZP35z3/WCy+8oJtuukmnT5/W7t27deLEicva7qKiIg0bNkxjx45VSkqK1q9fr5///OdyOp16/vnnqzRWWlqa+vXrp9tvv90K9c2aNZMk6zOv06dPl8vl0qlTp7Rs2TL17dtXn3zyiRUUz9e6dWsNGzZMb7zxhp5++mk1atTImrdgwQK53W7dfffdl7HlgJ8xAGpUVlaWkWR+8pOfVHoZSWb69OnlpsfExJikpCTr9cKFC40kM3HiRK+64cOHG0lm3rx5XtNvvPFG07VrV+v1mjVrjCSzZs0ar7oDBw4YSWbhwoXWtOnTp5uL/ckoLS01RUVFZt26dUaS+eyzz6x5TzzxxAWXPX+b3n//fSPJrFy50ppWXFxs3G63uffee61pjzzyiGnatKk5dOiQ13hz5841ksznn39+wV6NMSYuLs7ccMMNF5z/0UcfGUnm5ZdfNsYYk5aWZiSZX/7yl151hw8fNsHBwebpp5+ucJyy/XLo0CEjybz33nvWvFdeecVIMgcOHCi3XExMjGncuLHX9p05c8aEh4ebRx55xJoWGxtrhg8fftFtrUhFP/ukpCQjyfztb3/zqr3zzjtNhw4dLjlmRfs0JCTE6+d7IcXFxaaoqMj079/f3H333V7zzv/3UNb7smXLrGlHjx41AQEBZubMmZdcFwBjOAUMNADnXy16/fXXS5Li4+PLTT/3lOaV+uabbzRq1Ci5XC41atRIgYGBiouLkyR98cUXlzXmkCFD5HK5vI7g/fOf/9SxY8f08MMPW9P+8Y9/6Pbbb5fb7VZxcbH1GDJkiCRp3bp1V7BlP5zuPdc//vEP2Ww2/fSnP/Van8vlUpcuXbxOpWZnZ+vRRx9Vq1atFBAQoMDAQOsoYlX2y4033qhrrrnGet24cWNdd911Xj/DW265RR999JGmTp2qtWvX6syZM5e5xT+w2WwaOnSo17TOnTtX6+9NmTfeeENdu3ZV48aNrf30ySefXHIf9e3bV126dLE+WlA2ls1m0/jx46u9T6Ah4hQwUMMiIiLUpEkTHThwoMbWER4e7vU6KCjogtPPnj1bLes8deqUbr31VjVu3FgvvPCCrrvuOjVp0kSHDx/WPffcc9lBJCAgQImJiZo/f77y8vJ01VVX6e2331Z0dLQGDRpk1R0/flwffPCBAgMDKxzn3M/bXY6ywON2u631GWOs07zna9u2rSSptLRUAwcO1LFjx/Tcc8+pU6dOCgkJUWlpqXr27Fml/XL11VeXm+ZwOLzG+PWvf62WLVvqr3/9q15++WU1btxYgwYN0iuvvKJrr7220usq06RJEzVu3LjcOqvr96bMvHnzlJKSokcffVQ///nPFRERoUaNGum5556rVEieNGmSxo0bp3379qlt27Z66623dN9998nlclVrn0BDRQAEalijRo3Uv39/ffTRRzpy5Ihatmx5yWUcDkeFH7q/3M91XUjZG/3566pMeFq9erWOHTumtWvXWkf9JFXLLU0eeughvfLKK1qyZIkeeOABvf/++3rqqae8Pu8VERGhzp076xe/+EWFY5QFt8v1/vvvy2azWZ+1i4iIkM1m06efflrhhTxl03bv3q3PPvtMb7/9tpKSkqz5X3311RX1cyEhISGaOXOmZs6cqePHj1tHA4cOHaq9e/fWyDqrwzvvvKO+ffvq9ddf95r+3XffVWr5UaNG6ZlnntFvfvMb9ezZU1lZWXriiSdqolWgQSIAArVg2rRpWrFihZKTk/Xee+9ZR+jKFBUVKTU11Tr11rp1a+3cudOrZvXq1Tp16lS19tW6dWtJP9yg+tyja++///4lly27KfT5YejNN98sV1tWc+bMGQUHB19y7Ouvv149evTQwoULVVJSooKCAj300ENeNQkJCVqxYoXatWunsLCwS45ZFQsXLtRHH32kUaNGWadgExIS9NJLL+no0aMaMWLEBZe93P1SHaKiojRmzBh99tln+tWvfqXvv/9eTZo0qZaxL9f5RyzL2Gy2cvto586dSktLq9TFUo0bN9b48eO1YMECbdy4UTfeeKP69OlTbX0DDR0BEKgFvXr10uuvv67HH39c3bp102OPPaYbbrhBRUVF2rFjh377298qNjbWCoCJiYl67rnn9PzzzysuLk579uzRggUL5HQ6q7Uvl8ulO+64Q7Nnz1ZYWJhiYmL0ySefaOnSpZdctnfv3goLC9Ojjz6q6dOnKzAwUIsWLdJnn31WrrZTp06SpJdffllDhgxRo0aN1Llz53JB+FwPP/ywHnnkER07dky9e/dWhw4dvObPmjVLq1atUu/evTVp0iR16NBBZ8+e1cGDB7VixQq98cYblzzaeubMGW3atMl6/s0332j58uX6xz/+obi4OL3xxhtWbZ8+fTR+/Hg99NBD+ve//63bbrtNISEhyszM1IYNG9SpUyc99thj+tGPfqR27dpp6tSpMsYoPDxcH3zwgVatWnXB/fI///M/SkpKUmBgoDp06KDQ0NCL9n2uHj16KCEhQZ07d1ZYWJi++OIL/fnPf1avXr18Hv6kH7Zx7dq1+uCDDxQdHa3Q0FB16NBBCQkJ+vnPf67p06crLi5O+/bt06xZs9SmTZtK38bn8ccf15w5c7Rt2zb97ne/q+EtARoYH1+EAviV9PR0k5SUZK655hoTFBRkQkJCzE033WSef/55k52dbdUVFBSYp59+2rRq1coEBwebuLg4k56efsGrgLdu3eq1nrIrdnNycrymJyUlmZCQEK9pmZmZ5r777jPh4eHG6XSan/70p+bf//53pa4C3rhxo+nVq5dp0qSJad68uRk3bpzZvn17uWULCgrMuHHjTPPmzY3NZvO68vX8bSrj8XhMcHCwkWTeeuutCvdnTk6OmTRpkmnTpo0JDAw04eHhplu3bua///u/zalTpypcpkxcXJyRZD1CQkJM27ZtzX333Wf+/ve/m5KSkgqX+8Mf/mB69OhhQkJCTHBwsGnXrp158MEHzb///W+rZs+ePWbAgAEmNDTUhIWFmfvvv99kZGRUeHX3tGnTjNvtNna73euq3JiYGBMfH19h33FxcdbrqVOnmu7du5uwsDDjcDhM27Ztzc9+9jPz7bffXnT7L3QV8Pm/H8Zc+grwc3s7/yrg9PR006dPH9OkSRMjyeq9oKDATJkyxbRo0cI0btzYdO3a1SxfvtwkJSWZmJgYrzEq2m9l+vbta8LDw833339/yf4A/B+bMedd6gYAQD2QnZ2tmJgYTZw4UXPmzPF1O0C9wilgAEC9cuTIEX3zzTd65ZVXZLfb9eSTT/q6JaDe4T6AAIB65Xe/+5369u2rzz//XIsWLVKLFi183RJQ73AKGAAAwM9wBBAAAMDPVFsAnD17tm6++WaFhoYqMjJSw4cP1759+7xqjDGaMWOG3G63goODrUP45yooKNDEiRMVERGhkJAQDRs2TEeOHPGqyc3NVWJiopxOp5xOpxITE8vdfDYjI0NDhw5VSEiIIiIiNGnSJBUWFnrV7Nq1S3FxcQoODlaLFi00a9ascl//BAAA0NBUWwBct26dnnjiCW3atEmrVq1ScXGxBg4cqNOnT1s1c+bM0bx587RgwQJt3bpVLpdLAwYM8Lrz+1NPPaVly5ZpyZIl2rBhg06dOqWEhASVlJRYNaNGjVJ6erpSU1OVmpqq9PR0JSYmWvNLSkoUHx+v06dPa8OGDVqyZIneffddpaSkWDX5+fkaMGCA3G63tm7dqvnz52vu3LmaN29ede0SAACAuqmm7i+TnZ1tJJl169YZY4wpLS01LpfLvPTSS1bN2bNnjdPpNG+88YYxxpi8vDwTGBholixZYtUcPXrU2O12k5qaaoz54f5aksymTZusmrS0NCPJ7N271xhjzIoVK4zdbjdHjx61ahYvXmwcDofxeDzGGGNee+0143Q6zdmzZ62a2bNnG7fbbUpLS6t7dwAAANQZNXYbGI/HI+n/voz+wIEDysrK0sCBA60ah8OhuLg4bdy4UY888oi2bdumoqIirxq3263Y2Fht3LhRgwYNUlpampxOp3r06GHV9OzZU06nUxs3blSHDh2Ulpam2NhYr+8CHTRokAoKCrRt2zbdfvvtSktLU1xcnNdXEQ0aNEjTpk3TwYMH1aZNm0tuY2lpqY4dO6bQ0FDr658AAEDdZozRd999J7fbLbvdPy+HqJEAaIzR5MmT9eMf/1ixsbGSpKysLEk/fFfluaKionTo0CGrJigoqNz3ekZFRVnLZ2VlKTIystw6IyMjvWrOX09YWJiCgoK8asq+B/Xc9ZTNqygAFhQUqKCgwHp99OhRdezY8SJ7AgAA1FWHDx++5FdGNlQ1EgAnTJignTt3asOGDeXmnX+kzBhzyaNn59dUVF8dNeY/F4BcqJ/Zs2dr5syZ5aYfPnxYzZo1u+g2AACAuiE/P1+tWrWq0vduNzTVHgAnTpyo999/X+vXr/dK1S6XS9IPR9eio6Ot6dnZ2daRN5fLpcLCQuXm5nodBczOzlbv3r2tmuPHj5dbb05Ojtc4mzdv9pqfm5uroqIir5qyo4Hnrkcqf5SyzLRp0zR58mTrddkvULNmzQiAAADUM/788a1qO/FtjNGECRO0dOlSrV69utwp1DZt2sjlcmnVqlXWtMLCQq1bt84Kd926dVNgYKBXTWZmpnbv3m3V9OrVSx6PR1u2bLFqNm/eLI/H41Wze/duZWZmWjUrV66Uw+FQt27drJr169d73Rpm5cqVcrvd5U4Nl3E4HFbYI/QBAIB6q7quJnnssceM0+k0a9euNZmZmdbj+++/t2peeukl43Q6zdKlS82uXbvMyJEjTXR0tMnPz7dqHn30UdOyZUvz8ccfm+3bt5t+/fqZLl26mOLiYqtm8ODBpnPnziYtLc2kpaWZTp06mYSEBGt+cXGxiY2NNf379zfbt283H3/8sWnZsqWZMGGCVZOXl2eioqLMyJEjza5du8zSpUtNs2bNzNy5cyu9zR6Px0iyriwGAAB1H+/fxlRbAJRU4WPhwoVWTWlpqZk+fbpxuVzG4XCY2267zezatctrnDNnzpgJEyaY8PBwExwcbBISEkxGRoZXzYkTJ8zo0aNNaGioCQ0NNaNHjza5ubleNYcOHTLx8fEmODjYhIeHmwkTJnjd8sUYY3bu3GluvfVW43A4jMvlMjNmzKjSLWD4BQIAoP7h/dsYvgv4CuTn58vpdMrj8XA6GACAeoL3b74LGAAAwO8QAAEAAPwMARAAAMDPEAABAAD8DAEQAADAzxAAAQAA/AwBEAAAwM8QAAEAAPwMARAAAMDPEAABAAD8DAEQAADUfzbbxZ/bbP/33Omsvb7qKAIgAADwrYpCWmWf47IQAAEAQO240FE61DoCIAAAuDwcpau3CIAAAKBil/pcHeotAiAAAP6OI3Z+hwAIAIC/uNBpWvgdAiAAAA0ZQQ8VIAACANBQ8Dk9VBIBEACA+oygh8tAAAQAoL4h9OEKEQABAKgvCH6oJgRAAADqA8IfqhEBEACAuooreFFDCIAAANQ1hD7UMAIgAAB1CeEPtYAACABAXUDwQy0iAAIA4CuEPvgIARAAAMDPEAABAKhNHPVDHUAABACgphH6UMcQAAEAqAncww91GAEQAIDqQuhDPUEABADgShD6UA8RAAEAqCpCH+q5ag2A69ev19ChQ+V2u2Wz2bR8+XKv+TabrcLHK6+8YtX07du33Pyf/OQnXuPk5uYqMTFRTqdTTqdTiYmJysvL86rJyMjQ0KFDFRISooiICE2aNEmFhYVeNbt27VJcXJyCg4PVokULzZo1S8aY6twlAICGhNCHBiKgOgc7ffq0unTpooceekj33ntvufmZmZlerz/66CONHTu2XG1ycrJmzZplvQ4ODvaaP2rUKB05ckSpqamSpPHjxysxMVEffPCBJKmkpETx8fFq3ry5NmzYoBMnTigpKUnGGM2fP1+SlJ+frwEDBuj222/X1q1b9eWXX2rMmDEKCQlRSkrKle8MAED9ZbNJZQcEzn0ONBDVGgCHDBmiIUOGXHC+y+Xyev3ee+/p9ttvV9u2bb2mN2nSpFxtmS+++EKpqanatGmTevToIUl666231KtXL+3bt08dOnTQypUrtWfPHh0+fFhut1uS9Mtf/lJjxozRL37xCzVr1kyLFi3S2bNn9fbbb8vhcCg2NlZffvml5s2bp8mTJ8vG/+UBgH8h6MGP+OwzgMePH9eHH36osWPHlpu3aNEiRURE6IYbbtCUKVP03XffWfPS0tLkdDqt8CdJPXv2lNPp1MaNG62a2NhYK/xJ0qBBg1RQUKBt27ZZNXFxcXI4HF41x44d08GDB6t7cwEAdUnZ/+TzWT74qWo9AlgVf/zjHxUaGqp77rnHa/ro0aPVpk0buVwu7d69W9OmTdNnn32mVatWSZKysrIUGRlZbrzIyEhlZWVZNVFRUV7zw8LCFBQU5FXTunVrr5qyZbKystSmTZty6ygoKFBBQYH1Oj8/v4pbDQDwOQIf4LsA+Ic//EGjR49W48aNvaYnJydbz2NjY3Xttdeqe/fu2r59u7p27SpJFZ6eNcZ4Tb+cmrILQC50+nf27NmaOXPmpTYNAFDXlP1d5xQvIMlHp4A//fRT7du3T+PGjbtkbdeuXRUYGKj9+/dL+uFzhMePHy9Xl5OTYx3Bc7lc1pG+Mrm5uSoqKrpoTXZ2tiSVO3pYZtq0afJ4PNbj8OHDl+wfAOBDHO0DKuSTAPj73/9e3bp1U5cuXS5Z+/nnn6uoqEjR0dGSpF69esnj8WjLli1WzebNm+XxeNS7d2+rZvfu3V5XHa9cuVIOh0PdunWzatavX+91a5iVK1fK7XaXOzVcxuFwqFmzZl4PAACA+qZaA+CpU6eUnp6u9PR0SdKBAweUnp6ujIwMqyY/P19///vfKzz69/XXX2vWrFn697//rYMHD2rFihW6//77ddNNN6lPnz6SpOuvv16DBw9WcnKyNm3apE2bNik5OVkJCQnq0KGDJGngwIHq2LGjEhMTtWPHDn3yySeaMmWKkpOTrdA2atQoORwOjRkzRrt379ayZcv04osvcgUwANR3/A0HLs1UozVr1hhJ5R5JSUlWzZtvvmmCg4NNXl5eueUzMjLMbbfdZsLDw01QUJBp166dmTRpkjlx4oRX3YkTJ8zo0aNNaGioCQ0NNaNHjza5ubleNYcOHTLx8fEmODjYhIeHmwkTJpizZ8961ezcudPceuutxuFwGJfLZWbMmGFKS0srvb0ej8dIMh6Pp9LLAABq2LlvbWXPf/j036WfX2yMyxmvJsem18se2/OffOLP7982Y/hE7OXKz8+X0+mUx+PhdDAA+NKFbtxc9vzci0Au9vxiY1zOeDU5Nr1e9tj5Npuckl+/f/NdwAAAAH6GAAgAqJ/4rB9w2QiAAAAAfoYACACoPzjqB1QLAiAAoO4j+AHVigAIAKjbCH9AtSMAAgDqHpuN4AfUIAIgAMC3yoIeoQ+oNQRAAEDtI+gBPkUABADUDkIfUGcQAAEANYfQB9RJBEAAQPUj+AF1GgEQAFA9zr2YA0CdRgAEAFw5Qh9QrxAAAQCXj+AH1EsEQADA5SH8AfUWARAAUDUEP6DeIwACAAD4GQIgAODSOOoHNCgEQAAAAD9DAAQAVIyjfkCDRQAEAADwMwRAAMD/4agf4BcIgAAAAH6GAAgA/o6jfoDfIQACAAD4GQIgAPgjm40jf4AfIwACAAD4GQIgAPgLjvoB+A8CIAAAgJ8hAAJAQ8dRPwDnIQACQENG+ANQAQIgAACAnyEAAkBDxJE/ABdBAAQAAPAz1RoA169fr6FDh8rtdstms2n58uVe88eMGSObzeb16Nmzp1dNQUGBJk6cqIiICIWEhGjYsGE6cuSIV01ubq4SExPldDrldDqVmJiovLw8r5qMjAwNHTpUISEhioiI0KRJk1RYWOhVs2vXLsXFxSk4OFgtWrTQrFmzZIyptv0BAABQF1VrADx9+rS6dOmiBQsWXLBm8ODByszMtB4rVqzwmv/UU09p2bJlWrJkiTZs2KBTp04pISFBJSUlVs2oUaOUnp6u1NRUpaamKj09XYmJidb8kpISxcfH6/Tp09qwYYOWLFmid999VykpKVZNfn6+BgwYILfbra1bt2r+/PmaO3eu5s2bV417BAAAoA4yNUSSWbZsmde0pKQkc9ddd11wmby8PBMYGGiWLFliTTt69Kix2+0mNTXVGGPMnj17jCSzadMmqyYtLc1IMnv37jXGGLNixQpjt9vN0aNHrZrFixcbh8NhPB6PMcaY1157zTidTnP27FmrZvbs2cbtdpvS0tJKbaPH4zGSrDEBwKfO/ZNe9lyq3POLjVFbYzfEXuvCfqDXcst5JL9//671zwCuXbtWkZGRuu6665ScnKzs7Gxr3rZt21RUVKSBAwda09xut2JjY7Vx40ZJUlpampxOp3r06GHV9OzZU06n06smNjZWbrfbqhk0aJAKCgq0bds2qyYuLk4Oh8Or5tixYzp48GCNbDsAAEBdUKsBcMiQIVq0aJFWr16tX/7yl9q6dav69eungoICSVJWVpaCgoIUFhbmtVxUVJSysrKsmsjIyHJjR0ZGetVERUV5zQ8LC1NQUNBFa8pel9Wcr6CgQPn5+V4PAACA+iagNlf2wAMPWM9jY2PVvXt3xcTE6MMPP9Q999xzweWMMbKdc0sDWwW3N6iOGvOfC0AqWlaSZs+erZkzZ16wTwAAgPrAp7eBiY6OVkxMjPbv3y9JcrlcKiwsVG5urldddna2dXTO5XLp+PHj5cbKycnxqjn/KF5ubq6KioouWlN2Ovr8I4Nlpk2bJo/HYz0OHz5c1U0GAADwOZ8GwBMnTujw4cOKjo6WJHXr1k2BgYFatWqVVZOZmandu3erd+/ekqRevXrJ4/Foy5YtVs3mzZvl8Xi8anbv3q3MzEyrZuXKlXI4HOrWrZtVs379eq9bw6xcuVJut1utW7eusF+Hw6FmzZp5PQDAp7jhM4DLUK0B8NSpU0pPT1d6erok6cCBA0pPT1dGRoZOnTqlKVOmKC0tTQcPHtTatWs1dOhQRURE6O6775YkOZ1OjR07VikpKfrkk0+0Y8cO/fSnP1WnTp10xx13SJKuv/56DR48WMnJydq0aZM2bdqk5ORkJSQkqEOHDpKkgQMHqmPHjkpMTNSOHTv0ySefaMqUKUpOTrZC26hRo+RwODRmzBjt3r1by5Yt04svvqjJkydf8BQwAABAg1CdlxSvWbPG6D+XVp/7SEpKMt9//70ZOHCgad68uQkMDDTXXHONSUpKMhkZGV5jnDlzxkyYMMGEh4eb4OBgk5CQUK7mxIkTZvTo0SY0NNSEhoaa0aNHm9zcXK+aQ4cOmfj4eBMcHGzCw8PNhAkTvG75YowxO3fuNLfeeqtxOBzG5XKZGTNmVPoWMMZwGxgAdYA/3lqlPvVaF/YDvZZbjtvAGGMz5j9XPqDK8vPz5XQ65fF4OB0MwDdsth/e1i70vOyMxqWeX2yM2hq7IfZaF/YDvZZbLt9mk1Py6/dvvgsYAADAzxAAAaC+4XPKAK4QARAAAMDPEAABAAD8DAEQAOoLTv0CqCYEQAAAAD9DAASA+oCjfwCqEQEQAADAzxAAAQAA/AwBEAAAwM8QAAGgLuOzfwBqAAEQAOoqwh+AGkIABAAA8DMEQAAAAD9DAASAuoZTvwBqGAEQAOoSwh+AWkAABAAA8DMEQACoCzjyB6AWEQABAAD8DAEQAHyFo34AfMQrAObn52v58uX64osvfNUPAAAAaph9wYIFkqQzZ86oe/fuGjFihDp37qx3333Xx60BQAPEUT8AdYD91ltvlSQtW7ZMxhjl5eXp17/+tV544QUftwYADQShD0AdYw8PD5ckpaam6t5771WTJk0UHx+v/fv3+7g1AAAA1AR7WlqaTp8+rdTUVA0cOFCSlJubq8aNG/u4NQCoh8qO9nHUD0AdFjB69Gg1bdpUMTEx6tu3ryRp/fr16tSpk287A4D6wmaTjCH0Aag3AtLS0nT48GENGDBAdvsPFwW3bduWzwACwIWUBT1CH4B6KqB79+7q3r2718T4+HgftQMAdUzZ0b3znwNAPRbw+9//Xp988omys7NVWlrqNXP16tU+agsAahlBD4AfCXjyyScVHx+v2NhY2TiVAcAfnP+ZPcIeAD8T8Le//U133nmnr/sAgJrFhRoAYLG3b9/e1z0AQM3gliwAUCH7//zP/8hw+gNAQ0HYA4BLCli0aJE++ugj3XDDDQoMDPSauXTpUh+1BQBVwEUbAFAlAXfffbevewAAbxXdZ6/sOVfqAsAVsy9cuFAXelTV+vXrNXToULndbtlsNi1fvtyaV1RUpGeeeUadOnVSSEiI3G63HnzwQR07dsxrjL59+8pms3k9fvKTn3jV5ObmKjExUU6nU06nU4mJicrLy/OqycjI0NChQxUSEqKIiAhNmjRJhYWFXjW7du1SXFycgoOD1aJFC82aNYvT4UBtOPc07bmf0+P0LQDUCvv5wUmS8vPz1a9fvyoPdvr0aXXp0kULFiwoN+/777/X9u3b9dxzz2n79u1aunSpvvzySw0bNqxcbXJysjIzM63Hm2++6TV/1KhRSk9PV2pqqlJTU5Wenq7ExERrfklJieLj43X69Glt2LBBS5Ys0bvvvquUlBSvbRwwYIDcbre2bt2q+fPna+7cuZo3b16VtxvAeSq6+IJwBwB1x/Hjx835jh8/bgICAspNrwpJZtmyZRet2bJli5FkDh06ZE2Li4szTz755AWX2bNnj5FkNm3aZE1LS0szkszevXuNMcasWLHC2O12c/ToUatm8eLFxuFwGI/HY4wx5rXXXjNOp9OcPXvWqpk9e7Zxu92mtLS0Utvo8XiMJGtMwK9J//ffc5+fP/9Cz89f7krHq8mx6ZVeKzteXdgP9FpuOY9k/P39275nzx7t3LnTeuzYsUO///3v1aJFixoPnx6PRzabTVdddZXX9EWLFikiIkI33HCDpkyZou+++86al5aWJqfTqR49eljTevbsKafTqY0bN1o1sbGxcrvdVs2gQYNUUFCgbdu2WTVxcXFyOBxeNceOHdPBgwdrYGuBBoyjewBQrwRUdKo3ODhY8+fPr9EVnz17VlOnTtWoUaPUrFkza/ro0aPVpk0buVwu7d69W9OmTdNnn32mVatWSZKysrIUGRlZbrzIyEhlZWVZNVFRUV7zw8LCFBQU5FXTunVrr5qyZbKystSmTZty6ygoKFBBQYH1Oj8//zK2HGgg+BYNAKi3ArZs2aLmzZtbE4KCghQZGalGjRrV2EqLior0k5/8RKWlpXrttde85iUnJ1vPY2Njde2116p79+7avn27unbtKkkVfmWdMcZr+uXUmP+8kV3oK/Fmz56tmTNnXmrzAAAA6jR79+7dFRMTYz2io6NrPPyNGDFCBw4c0KpVq7yO/lWka9euCgwM1P79+yVJLpdLx48fL1eXk5NjHcFzuVzWkb4yubm5KioqumhNdna2JJU7elhm2rRp8ng81uPw4cOV2GKggeF0LwDUewGStGfPHmVkZJS7TUpFV+heibLwt3//fq1Zs0ZXX331JZf5/PPPVVRUpOjoaElSr1695PF4tGXLFt1yyy2SpM2bN8vj8ah3795WzS9+8QtlZmZay61cuVIOh0PdunWzap599lkVFhYqKCjIqnG73eVODZdxOBxenxkEAACojwK6dOmiXbt2yWazlTsFWlJSUqXBTp06pa+++sp6feDAAaWnpys8PFxut1v33Xeftm/frn/84x8qKSmxjsCFh4crKChIX3/9tRYtWqQ777xTERER2rNnj1JSUnTTTTepT58+kqTrr79egwcPVnJysnV7mPHjxyshIUEdOnSQJA0cOFAdO3ZUYmKiXnnlFZ08eVJTpkxRcnKydcRx1KhRmjlzpsaMGaNnn31W+/fv14svvqjnn3/+gqeAAQAAGoS77rrLZGdnm6ZNm5o9e/aYTz/91Nxyyy1m/fr1Vb6keM2aNUb/ubT63EdSUpI5cOBAhfMkmTVr1hhjjMnIyDC33XabCQ8PN0FBQaZdu3Zm0qRJ5sSJE17rOXHihBk9erQJDQ01oaGhZvTo0SY3N9er5tChQyY+Pt4EBweb8PBwM2HCBK9bvhhjzM6dO82tt95qHA6HcblcZsaMGZW+BYwx3AYGfqQu3f6hsuPRK73WhV7rwn6g13LLcRsYY2yfffaZ6dy5s5xOp7Zs2aIOHTpo9erVSklJ0Y4dO3wSSuuL/Px8OZ1OeTyeS36WEajXKvoKtot9Xdu5z89frrbGo1d6rQu91oX9QK/llsu32eSU/Pr92960aVNJUkREhPW1bDExMdq3b58v+wIAAEANCdi5c6fatm2rHj16aM6cOQoKCtJvf/tbtW3b1te9AfClc/8PGgDQoASUlpZKkl544QUlJCTo1ltv1dVXX62//vWvPm4NAAAANSHgnnvukSS1bdtWe/bs0cmTJxUWFsaVsAAAAA2UXZK++uor/fOf/9SZM2cUHh7u654AAABQg+z9+/fXddddpzvvvFOZmZmSpHHjxiklJcXHrQGodRz5BwC/YA8MDFRGRoaaNGliTXzggQeUmprqw7YAAABQU+wvv/yyWrZs6TXx2muv1aFDh3zUEgAAAGqS/dwjf2W+/fZbvvMWAACggbL/6U9/sl7YbDaVlpbqlVde0e233+7DtgAAAFBTAt588039+9//VmFhoZ5++ml9/vnnOnnypP71r3/5ujcAtYEbPgOA37Hv3LlTN998swYMGKDTp0/rnnvu0Y4dO9SuXTtf9wYAAIAaEOByuTRr1ixf9wEAAIBaEjB37lwdPHhQNptNbdu21fDhw9WmTRtf9wUAAIAaEvDMM88oMjJSxhjl5OTomWee0YsvvqgpU6b4ujcANYnP/gGA37J/++23yszMVFZWlnJycjR16lRNnTpV69ev93VvAAAAqAEBYWFh1ovw8HDNmjVLWVlZev3113Xbbbf5sDUANYavfAMAv2avaGJiYqI2bdpU270AAACgFlQYANu0aaOsrKza7gUAAAC1oMIAGBgYqMLCwtruBQAAALUg4Ne//nW5id99950PWgFQ47jyFwAgKeDVV1+tcMY111xTy60AAACgNgQcOHDA1z0AAACgFlX4GUAADRC3fgEA/AcBEAAAwM8QAAEAAPwMARAAAMDPEACBho7P/gEAzmP/+uuv9f/+3//TyJEjlZ2dLUlKTU3V559/7uPWAAAAUBPsnTp10ubNm7V06VKdOnVKkrRz505Nnz7dx60BuGIc/QMAVMD+wgsvaNWqVQoKCrIm3n777UpLS/NhWwAAAKgp9rvvvrvcxObNm+vEiRM+aAcAAAA1zZ6ZmVlu4o4dO9SiRQsftAMAAICaZn/mmWeUlZUlm82m0tJS/etf/9KUKVP04IMP+ro3AJeLz/4BAC4i4JprrlGLFi1kjFHHjh1VUlKiUaNG6f/9v//n694AAABQA+yLFi3Sl19+qb/97W965513tHfvXv35z39Wo0aNqjzY+vXrNXToULndbtlsNi1fvtxrvjFGM2bMkNvtVnBwsPr27VvudjMFBQWaOHGiIiIiFBISomHDhunIkSNeNbm5uUpMTJTT6ZTT6VRiYqLy8vK8ajIyMjR06FCFhIQoIiJCkyZNUmFhoVfNrl27FBcXp+DgYLVo0UKzZs2SMabK2w0AAFCf2CWpXbt2uu+++zRixAhde+21lz3Y6dOn1aVLFy1YsKDC+XPmzNG8efO0YMECbd26VS6XSwMGDNB3331n1Tz11FNatmyZlixZog0bNujUqVNKSEhQSUmJVTNq1Cilp6crNTVVqampSk9PV2JiojW/pKRE8fHxOn36tDZs2KAlS5bo3XffVUpKilWTn5+vAQMGyO12a+vWrZo/f77mzp2refPmXfb2AwAA1AutWrUyzzzzjNm1a5epTpLMsmXLrNelpaXG5XKZl156yZp29uxZ43Q6zRtvvGGMMSYvL88EBgaaJUuWWDVHjx41drvdpKamGmOM2bNnj5FkNm3aZNWkpaUZSWbv3r3GGGNWrFhh7Ha7OXr0qFWzePFi43A4jMfjMcYY89prrxmn02nOnj1r1cyePdu43W5TWlpaqW30eDxGkjUmUGdI//ffyjw/f7nKPK/usemVXhtir3VhP9BrueU8kvH392/7008/rU8//VSdO3dW586dNWfOnHKnXKvDgQMHlJWVpYEDB1rTHA6H4uLitHHjRknStm3bVFRU5FXjdrsVGxtr1aSlpcnpdKpHjx5WTc+ePeV0Or1qYmNj5Xa7rZpBgwapoKBA27Zts2ri4uLkcDi8ao4dO6aDBw9W+/YDNY4LPwAAlWSfMGGC/vWvf+nrr7/WAw88oD/96U9q3bq1+vXrV60rysrKkiRFRUV5TY+KirLmZWVlKSgoSGFhYRetiYyMLDd+ZGSkV8356wkLC1NQUNBFa8pel9Wcr6CgQPn5+V4PAACA+sZe9qRNmzaaOnWqXnrpJXXq1Enr1q2rkRXazjtKYYwpN+1859dUVF8dNcaYCy4rSbNnz7YuPHE6nWrVqtVF+wYAAKiL7JL0r3/9S48//riio6M1atQo3XDDDfrHP/5RrStyuVySyh9dy87Oto68uVwuFRYWKjc396I1x48fLzd+Tk6OV83568nNzVVRUdFFa7KzsyWVP0pZZtq0afJ4PNbj8OHDl95wAACAOsbepk0b9evXT4cOHdKvfvUrZWVl6Z133tGQIUOqdUVt2rSRy+XSqlWrrGmFhYVat26devfuLUnq1q2bAgMDvWoyMzO1e/duq6ZXr17yeDzasmWLVbN582Z5PB6vmt27d+vcbzlZuXKlHA6HunXrZtWsX7/e69YwK1eulNvtVuvWrSvcBofDoWbNmnk9AAAA6p0FCxaYnJycarmi5LvvvjM7duwwO3bsMJLMvHnzzI4dO8yhQ4eMMca89NJLxul0mqVLl5pdu3aZkSNHmujoaJOfn2+N8eijj5qWLVuajz/+2Gzfvt3069fPdOnSxRQXF1s1gwcPNp07dzZpaWkmLS3NdOrUySQkJFjzi4uLTWxsrOnfv7/Zvn27+fjjj03Lli3NhAkTrJq8vDwTFRVlRo4caXbt2mWWLl1qmjVrZubOnVvp7eUqYPicP15VSa/0Wp96rQv7gV7LLcdVwMbo0iWVt2bNGqP/7NRzH0lJScaYH24FM336dONyuYzD4TC33XZbudvPnDlzxkyYMMGEh4eb4OBgk5CQYDIyMrxqTpw4YUaPHm1CQ0NNaGioGT16tMnNzfWqOXTokImPjzfBwcEmPDzcTJgwweuWL8YYs3PnTnPrrbcah8NhXC6XmTFjRqVvAWMMARB1gD++odIrvdanXuvCfqDXcssRAI2xvffee+ZCRweHDRtW84cg67H8/Hw5nU55PB5OB8M3bLYf/qRd6HnZBU2Xen6xMWprbHql14bYa13YD/Rabrl8m01Oya/fvwOGDx9e4Qybzeb17RsAAABoGAJKS0t93QOAqjj3/2wBALgM9oKCgnITCwsL9ac//ckH7QAAAKCm2T0eT7mJ3333nR566CEftAMAAICaZq/oWy+OHDkip9Ppg3YAXNAFvqEGAICqCujfv78CAgKsCSUlJTpw4IAGDx7sw7YAAABQUwIGDRqkpk2bWhOCgoLUunVr3XvvvT5sC4AXjv4BAKpRwM9//nM1btzY130AAACgltgJfwAAAP4lYO7cufrb3/6mjIwMFRYWes08efKkj9oCIIl7/gEAaoR93rx5GjFihDwejyZPnqx77rlHdrtdM2bM8HVvAAAAqAH2t956S1OmTFFAQIBGjhyp3/3ud3r++ee1adMmX/cG+Dcu/AAA1BB7p06dJElNmzZV2U2hExIS9OGHH/qyLwAAANQQe2ZmpiSpffv2WrlypSRp69atcjgcvuwLAAAANcT+ySefSJKefPJJPffcc7r22mv14IMP6uGHH/ZxawAAAKgJAc8++6wk6b777lPLli21ceNGtW/fXsOGDfNxa4Cf4spfAEANCzj3Rc+ePdWzZ09f9QKACz8AALUg4P3337/gTI4CAgAANDwBw4cPr3CGzWZTSUlJ7XYDAACAGhdQWlrq6x4AAABQi+y+bgAAAAC1K2DWrFkXnPn888/XYiuAH+PKXwBALQpYtmyZ9aKoqEgHDhxQQECA2rVrRwAEAABogAJ27NjhNSE/P19jxozR3Xff7aOWAAAAUJPKfQawWbNmmjVrlp577jlf9AMAAIAaVuFFIHl5efJ4PLXdCwAAAGpBwK9//WvrhTFGmZmZ+vOf/6zBgwf7sC0AAADUlIBXX33VemG329W8eXMlJSVp2rRpPmwL8ANc+QsA8JGAAwcO+LoHAAAA1CJuBA0AAOBnAl555RWtWbNG2dnZOv9r4bZv3+6jtgAAAFBTAubMmaP77rtPt9xyi2w2m6/7AQAAQA0LWL58ufr06ePrPgAAAFBL7KGhob7uAQAAALXI/swzz+jQoUO+7gMAAAC1JODs2bNq27atmjRposDAQK+ZJ0+e9FFbQAPFvf8AAHWA/ejRo3rxxRc1f/58vfrqq16P6ta6dWvZbLZyjyeeeEKSNGbMmHLzevbs6TVGQUGBJk6cqIiICIWEhGjYsGE6cuSIV01ubq4SExPldDrldDqVmJiovLw8r5qMjAwNHTpUISEhioiI0KRJk1RYWFjt2wwAAFDXBPz9739Xly5damVlW7duVUlJifV69+7dGjBggO6//35r2uDBg7Vw4ULrdVBQkNcYTz31lD744AMtWbJEV199tVJSUpSQkKBt27apUaNGkqRRo0bpyJEjSk1NlSSNHz9eiYmJ+uCDDyRJJSUlio+PV/PmzbVhwwadOHFCSUlJMsZo/vz5Nbb9AAAAdUJaWprxlSeffNK0a9fOlJaWGmOMSUpKMnfdddcF6/Py8kxgYKBZsmSJNe3o0aPGbreb1NRUY4wxe/bsMZLMpk2brJq0tDQjyezdu9cYY8yKFSuM3W43R48etWoWL15sHA6H8Xg8le7f4/EYSVVaBn5OuvjzH04QX/q5r8ajV3ql16qNVxf2A72WW84jGX9//7anpKRo7dq1OnHihPLz870eNamwsFDvvPOOHn74Ya/7D65du1aRkZG67rrrlJycrOzsbGvetm3bVFRUpIEDB1rT3G63YmNjtXHjxrJAK6fTqR49elg1PXv2lNPp9KqJjY2V2+22agYNGqSCggJt27btgj0XFBTU6j4CAACoCQFpaWnq37+/10RjjGw2m9fp2uq2fPly5eXlacyYMda0IUOG6P7771dMTIwOHDig5557Tv369dO2bdvkcDiUlZWloKAghYWFeY0VFRWlrKwsSVJWVpYiIyPLrS8yMtKrJioqymt+WFiYgoKCrJqKzJ49WzNnzrzcTQYAAKgTAtasWeOTFf/+97/XkCFDvI7CPfDAA9bz2NhYde/eXTExMfrwww91zz33XHCsssBapqJvNLmcmvNNmzZNkydPtl7n5+erVatWF6wHAACoiwLi4uJqfaWHDh3Sxx9/rKVLl160Ljo6WjExMdq/f78kyeVyqbCwULm5uV5HAbOzs9W7d2+r5vjx4+XGysnJsY76uVwubd682Wt+bm6uioqKyh0ZPJfD4ZDD4ajcRgJluPULAKCOCVi/fv0FZ9522201stKFCxcqMjJS8fHxF607ceKEDh8+rOjoaElSt27dFBgYqFWrVmnEiBGSpMzMTO3evVtz5syRJPXq1Usej0dbtmzRLbfcIknavHmzPB6PFRJ79eqlX/ziF8rMzLTGXrlypRwOh7p161Yj2wwAAFBXBPTt29drwrmnQGviM4ClpaVauHChkpKSFBAQYE0/deqUZsyYoXvvvVfR0dE6ePCgnn32WUVEROjuu++WJDmdTo0dO1YpKSm6+uqrFR4erilTpqhTp0664447JEnXX3+9Bg8erOTkZL355puSfrgNTEJCgjp06CBJGjhwoDp27KjExES98sorOnnypKZMmaLk5GQ1a9as2rcZAACgLrHn5uaq7JGdna3U1FTdfPPNWrlyZY2s8OOPP1ZGRoYefvhhr+mNGjXSrl27dNddd+m6665TUlKSrrvuOqWlpenc7yt+9dVXNXz4cI0YMUJ9+vRRkyZN9MEHH1j3AJSkRYsWqVOnTho4cKAGDhyozp07689//rPXuj788EM1btxYffr00YgRIzR8+HDNnTu3RrYZAACgLrEZU/7DSevXr9fPfvazi94SBT9cBOJ0OuXxeDhyiAs79zOAl3pedgT+Us99NR690iu9Vm28urAf6LXccvk2m5ySX79/2yua2Lx5c+3bt6+2ewEAAEAtCNi5c6f1whijzMxMvfTSS7X29XAAAACoXQE33XSTzj8L3LNnT/3hD3/wUUtAA3Du6QcAAOqYgG+++cZ6Ybfb1bx5czVu3NiHLQEAAKAmBcTExPi6BwAAANSicheBeDwe3XDDDfr000990Q8AAABqWLkA6HQ69cgjj2jevHm+6Aeo3865kToAAHVVhbeBGThwIPcABAAAaKAqDIABAQHKycmp7V4AAABQCyoMgDt37lR0dHRt9wIAAIBaUC4AnjlzRtOnT1dCQoIv+gHqLz7/BwCoJwLmzJmjDh06yGaz6YsvvtBvfvMblZSU6L//+7993RsAAABqQMC0adOsbwKx2WwaNGiQXnvtNUVFRfm4NQAAANSEgG+//VZfffWVjDG69tprFRYW5uueAAAAUIMCwsLCdPPNN/u6DwAAANSSCq8CBgAAQMNFAASuFFf/AgDqGQIgAACAnyEAAgAA+BkCIAAAgJ8hAAJXgs//AQDqIQIgAACAnyEAAgAA+BkCIAAAgJ8hAAIAAPgZAiAAAICfIQACl4OrfwEA9RgBEAAAwM8QAAEAAPwMARAAAMDPEACBquLzfwCAeo4ACAAA4GcIgAAAAH6GAAgAAOBnCIAAAAB+plYD4IwZM2Sz2bweLpfLmm+M0YwZM+R2uxUcHKy+ffvq888/9xqjoKBAEydOVEREhEJCQjRs2DAdOXLEqyY3N1eJiYlyOp1yOp1KTExUXl6eV01GRoaGDh2qkJAQRUREaNKkSSosLKyxbQcAAKgrav0I4A033KDMzEzrsWvXLmvenDlzNG/ePC1YsEBbt26Vy+XSgAED9N1331k1Tz31lJYtW6YlS5Zow4YNOnXqlBISElRSUmLVjBo1Sunp6UpNTVVqaqrS09OVmJhozS8pKVF8fLxOnz6tDRs2aMmSJXr33XeVkpJSOzsBAADAl0wtmj59uunSpUuF80pLS43L5TIvvfSSNe3s2bPG6XSaN954wxhjTF5engkMDDRLliyxao4ePWrsdrtJTU01xhizZ88eI8ls2rTJqklLSzOSzN69e40xxqxYscLY7XZz9OhRq2bx4sXG4XAYj8dT6e3xeDxGUpWWQT1W9s9Fqtzz85erzPPqHpte6ZVefdtrXdgP9FpuOY9k/P39u9aPAO7fv19ut1tt2rTRT37yE33zzTeSpAMHDigrK0sDBw60ah0Oh+Li4rRx40ZJ0rZt21RUVORV43a7FRsba9WkpaXJ6XSqR48eVk3Pnj3ldDq9amJjY+V2u62aQYMGqaCgQNu2bbtg7wUFBcrPz/d6AAAA1De1GgB79OihP/3pT/rnP/+pt956S1lZWerdu7dOnDihrKwsSVJUVJTXMlFRUda8rKwsBQUFKSws7KI1kZGR5dYdGRnpVXP+esLCwhQUFGTVVGT27NnW5wqdTqdatWpVxT0AAADge7UaAIcMGaJ7771XnTp10h133KEPP/xQkvTHP/7RqrGd9y0Lxphy0853fk1F9ZdTc75p06bJ4/FYj8OHD1+0LwAAgLrIp7eBCQkJUadOnbR//37rauDzj8BlZ2dbR+tcLpcKCwuVm5t70Zrjx4+XW1dOTo5Xzfnryc3NVVFRUbkjg+dyOBxq1qyZ1wMAAKC+8WkALCgo0BdffKHo6Gi1adNGLpdLq1atsuYXFhZq3bp16t27tySpW7duCgwM9KrJzMzU7t27rZpevXrJ4/Foy5YtVs3mzZvl8Xi8anbv3q3MzEyrZuXKlXI4HOrWrVuNbjMAAIDP1eYVJykpKWbt2rXmm2++MZs2bTIJCQkmNDTUHDx40BhjzEsvvWScTqdZunSp2bVrlxk5cqSJjo42+fn51hiPPvqoadmypfn444/N9u3bTb9+/UyXLl1McXGxVTN48GDTuXNnk5aWZtLS0kynTp1MQkKCNb+4uNjExsaa/v37m+3bt5uPP/7YtGzZ0kyYMKFK28NVwH6mIV+pSK/0Sq81M15d2A/0Wm45rgI2JqA2w+aRI0c0cuRIffvtt2revLl69uypTZs2KSYmRpL09NNP68yZM3r88ceVm5urHj16aOXKlQoNDbXGePXVVxUQEKARI0bozJkz6t+/v95++201atTIqlm0aJEmTZpkXS08bNgwLViwwJrfqFEjffjhh3r88cfVp08fBQcHa9SoUZo7d24t7QkAAADfsRljjK+bqK/y8/PldDrl8Xj4PKA/sNl++P/HsguFLvW87J9WVZ5X99j0Sq/06tte68J+oNdyy+XbbHJKfv3+zXcBAwAA+BkCIHAxZf/HCABAA0IABAAA8DMEQAAAAD9DAAQAAPAzBEAAAAA/QwAEAADwMwRAAAAAP0MABAAA8DMEQOB83PsPANDAEQABAAD8DAEQAADAzxAAAQAA/AwBEAAAwM8QAAGJCz8AAH6FAAgAAOBnCIDwbxz5AwD4IQIg/BfhDwDgpwiA8C82G8EPAOD3CIBoWMrC3blBj9AHAIAXAiB861KB7fzn5y93/nMAAHBJBEBcOQIbAAD1CgEQVcNpVQAA6j0CIC6toiN6AACg3iIAAgAA+BkCICrG0T4AABosAiD+D6EPAAC/QAAEAADwMwRAAAAAP0MA9Hec9gUAwO8QAAEAAPwMARAAAMDPEAD9Fad+AQDwWwRAf0T4AwDArxEAAQAA/EytBsDZs2fr5ptvVmhoqCIjIzV8+HDt27fPq2bMmDGy2Wxej549e3rVFBQUaOLEiYqIiFBISIiGDRumI0eOeNXk5uYqMTFRTqdTTqdTiYmJysvL86rJyMjQ0KFDFRISooiICE2aNEmFhYU1su0AAAB1Ra0GwHXr1umJJ57Qpk2btGrVKhUXF2vgwIE6ffq0V93gwYOVmZlpPVasWOE1/6mnntKyZcu0ZMkSbdiwQadOnVJCQoJKSkqsmlGjRik9PV2pqalKTU1Venq6EhMTrfklJSWKj4/X6dOntWHDBi1ZskTvvvuuUlJSanYn+BKnfgEAgCQZH8rOzjaSzLp166xpSUlJ5q677rrgMnl5eSYwMNAsWbLEmnb06FFjt9tNamqqMcaYPXv2GElm06ZNVk1aWpqRZPbu3WuMMWbFihXGbrebo0ePWjWLFy82DofDeDyeSvXv8XiMpErX+1zZj1vyfn7+/As9P3+5yjyv7rEbYq81OTa90iu9+rbXurAf6LXcch7J1Kv37xrg088AejweSVJ4eLjX9LVr1yoyMlLXXXedkpOTlZ2dbc3btm2bioqKNHDgQGua2+1WbGysNm7cKElKS0uT0+lUjx49rJqePXvK6XR61cTGxsrtdls1gwYNUkFBgbZt21ZhvwUFBcrPz/d61Bsc/QMAAP/hswBojNHkyZP14x//WLGxsdb0IUOGaNGiRVq9erV++ctfauvWrerXr58KCgokSVlZWQoKClJYWJjXeFFRUcrKyrJqIiMjy60zMjLSqyYqKsprflhYmIKCgqya882ePdv6TKHT6VSrVq0ufwcAAAD4SICvVjxhwgTt3LlTGzZs8Jr+wAMPWM9jY2PVvXt3xcTE6MMPP9Q999xzwfGMMbKdc5TLVsERr8upOde0adM0efJk63V+fj4hEAAA1Ds+OQI4ceJEvf/++1qzZo1atmx50dro6GjFxMRo//79kiSXy6XCwkLl5uZ61WVnZ1tH9Fwul44fP15urJycHK+a84/05ebmqqioqNyRwTIOh0PNmjXzegAAANQ3tRoAjTGaMGGCli5dqtWrV6tNmzaXXObEiRM6fPiwoqOjJUndunVTYGCgVq1aZdVkZmZq9+7d6t27tySpV69e8ng82rJli1WzefNmeTwer5rdu3crMzPTqlm5cqUcDoe6detWLdtbJ/DZPwAAcJ5aPQX8xBNP6C9/+Yvee+89hYaGWkfgnE6ngoODderUKc2YMUP33nuvoqOjdfDgQT377LOKiIjQ3XffbdWOHTtWKSkpuvrqqxUeHq4pU6aoU6dOuuOOOyRJ119/vQYPHqzk5GS9+eabkqTx48crISFBHTp0kCQNHDhQHTt2VGJiol555RWdPHlSU6ZMUXJyMkf2AABAw1ablxzrP5ddn/9YuHChMcaY77//3gwcONA0b97cBAYGmmuuucYkJSWZjIwMr3HOnDljJkyYYMLDw01wcLBJSEgoV3PixAkzevRoExoaakJDQ83o0aNNbm6uV82hQ4dMfHy8CQ4ONuHh4WbChAnm7Nmzld6eenEbmHp4eb7f9VqTY9MrvdKrb3utC/uBXsstx21gjLEZY4zv4mf9lp+fL6fTKY/HUzePGpad/jXm4s/LfgUu9byy49Xk2A2x17qwH+iVXum14f6Noddyy+XbbHJKdff9uxbwXcAAAAB+hgAIAADgZwiAAAAAfoYACAAA4GcIgA1R2QddAQAAKkAABAAA8DMEQAAAAD9DAAQAAPAzBEAAAAA/QwAEAADwMwRAAAAAP0MABAAA8DMEQAAAAD9DAAQAAPAzBMCGgm//AAAAlUQABAAA8DMEQAAAAD9DAAQAAPAzBEAAAAA/QwAEAADwMwRAAAAAP0MABAAA8DMEQAAAAD9DAAQAAPAzBEAAAAA/QwCsz/j6NwAAcBkIgAAAAH6GAAgAAOBnCIAAAAB+hgAIAADgZwiAAAAAfoYACAAA4GcIgAAAAH6GAAgAAOBnCIAAAAB+xu8D4GuvvaY2bdqocePG6tatmz799FNft3RxfPsHAAC4Qn4dAP/617/qqaee0n//939rx44duvXWWzVkyBBlZGT4ujUAAIAa49cBcN68eRo7dqzGjRun66+/Xr/61a/UqlUrvf76675urTyO/AEAgGoS4OsGfKWwsFDbtm3T1KlTvaYPHDhQGzdurHCZgoICFRQUWK89Ho8kKT8/v+YalSSnU/9Zkfd/q+t5dY9Hr/RKr/RKrzU/Nr1e9nJlr4wx8lc246dbf+zYMbVo0UL/+te/1Lt3b2v6iy++qD/+8Y/at29fuWVmzJihmTNn1mabAACghnz99ddq27atr9vwCbuvG/A123mnVo0x5aaVmTZtmjwej/U4dOhQbbQIAABqQHh4uK9b8Bm/PQUcERGhRo0aKSsry2t6dna2oqKiKlzG4XDI4XDURnsAAKCG2e3+exzMb7c8KChI3bp106pVq7ymr1q1yuuUMAAAQEPjt0cAJWny5MlKTExU9+7d1atXL/32t79VRkaGHn30UV+3BgAAUGP8OgA+8MADOnHihGbNmqXMzEzFxsZqxYoViomJqdTyDodDKSkpWrJkiYwxio6OVmZmpiSVe56VlSWXy3XB+VfyvLrHpld6pdf6Nza90iu9Vn5sm82mkSNH+vXHuvz2KmAAAAB/5befAQQAAPBXBEAAAAA/QwAEAADwMwRAAAAAP0MABAAA8DN+fRuY6pCVlSWbzabIyEhJUmZmpux2u1wul0pLS5WVlaVGjRopKipKpaWlOn78uGw2m1wulwoLC5WXlydjjKKiolRYWKjc3FzZbDY1b95cmZmZ1rKXqi0uLlZubq6MMYqMjLT6KvtWk/P7qkofvh67UaNGioyMlDFG2dnZknTBdZ+7v89dd02PXVxcrJMnT5b72V3O2Ofvw4ut++qrr9bJkyer9LOx2+2V+n2tzP6rrbGvZP9d6nfwUuuu6thV2a4rGfvcfzsX+/tR1kfZz8YYc9Hfr8v9O1XTY1f3z70q++/87apPY1/q38656y67PUpN/O2uyfeFKxn7Ql/96g8IgJfpyy+/1KuvvqqFCxfqiSeeUMuWLbV48WJ9+eWXSkpKUuvWrfXOO+9o//79mjBhgmJjY/Xqq69q3759euSRRxQeHq7f/OY3stvtuv/++2W327V06VIVFRVpwIABSk9P1/79+y9aW1xcrOTkZAUEBGj+/PkKCAjQiBEj9O233+ovf/mLJkyY4NXXuHHj1Lp1a/3+97/X119/XafH7tOnjz744AP95S9/0ZNPPqnevXvrvffe0+LFiy+5v8vWvWDBgloZW5L1sxs5cqRycnL0zjvv6KmnnqrS2BX9nsTGxur111/Xnj17vPZpo0aN1L17d23cuFFBQUGX/Nn07dtX7777brXsv9oae/z48Ve8/y72OzhixAidOHFCixYtKrfuqo49btw4BQUFVerfypWOPX78eDVq1EgLFiyo8O9H2e/gokWL9PDDD+vEiRNavny5Jk2apNatW+tPf/pTtfydOvd3vabGro6fzYX+9lxq/527XVX9u+brsS/1t+fcv9fffPON4uPj9cUXX1T73+6JEyfW2PvClYwdFBSkyZMn66c//amuuuoqvw2B3AfwMqxbt079+vVTaWmpr1sBAACXYciQIXr11VfVoUMHX7fiEwTAKtq9e7duvvlmnT171tetAACAyxAQEKDi4mINGjRIc+bMUefOnX3dUq0jAFbB0aNH9eMf/1gHDx70dSsAAOAK2Ww2tW/fXq+//rr69+/v63ZqFVcBV8EXX3yhoqIihYSE+LoVAABwhYwx2r9/v0aOHKnNmzfLn46JEQCr4I477tA///lPvfDCC17TAwMDfdQRAAC4UidPntRf/vIXFRcX+00I5BTwZSgsLNQ111yj48eP+7oVAABQDW655RZt3rzZ123UGo4AXsRHH32ktm3bymazWQ+Xy6UxY8YoOjra1+0BAIBqYLPZ1Lp1axUXF/u6lVrDEcALeP/993XXXXf5ug0AAFDD7Ha7Pv30U/Xu3dvXrdQajgBW4Pvvv9ekSZN83QYAAKgFr7/+unr16uXrNmoV3wRSgaCgIOXk5Pi6DQAAUI1CQkJUUFCg4uJihYWFqUuXLnryySc1fPhwX7dW6zgCeJ7S0lIZY9SyZUtrWlBQkIYOHarhw4dX+orfJk2aVHqdbrfb+o7DS7HZbHI6nZUeOywsTEFBQfVubIfDUemxJVnfFVoTY7do0aLGxg4NDa10bUxMjAICKvf/bA6Ho0pXp1d1/9Xk2FXZf1X5d9akSRO1atWqRsYODg6usbEl6eqrr650bWX/llS1jyZNmigsLKzGxna5XDUytiRdddVVla6tyt81qWo/m5ocuyr/dlq0aFHpz7HXpfeFqozdrFkz3XTTTWrUqJHX9JKSEn366adKT0/XV199pY8++sgvw59EACzHbrcrMDBQgwcPtqYVFhYqLCxMf/jDH5STk6NOnTpdcpzg4GDdeOONlVrnyZMn1bJly0r9Y7fb7Wrfvr3atGlTqbElqWPHjpWqq0tjBwQEVOlwfJMmTSr1c7mcsQMDAys9tqQqjR0UFFSl35OqbOMNN9xQ6T6quv9qcuzK/k5JVft3VlRUpObNm1f6jv9VGbu4uFjXX3+9rr322mofW5Kio6P1ox/9qFK1AQEBuuaaa6q9j8LCQrVr167Sgb6qPxu3262YmJhqH1v6IQC2bt26UrWFhYVV+hxYaGholfZhTY0tVf5vT05Ojtq2bVupEHg57wuV3caaHPv06dMKCgoqN/bZs2e1d+9edenSReHh4WrcuHGl193QcBHIRfTu3VtpaWnW67Fjx+oXv/iF1q1bpwceeMCHnQEAgMuxcOFCjRkzxtdt+BwBsAKnTp1SYWGhgoKC1LdvX23bts2a53K5VFhYqJMnT/qwQwAAcDk2bNigPn36+LoNn+MU8HkKCwvVqFEj7d27Vw8++KBCQkLUvHlza35WVhbhDwCAeujFF18k/P2H318FXFxcrNLSUtntdhUWFqq0tFSbN2/WHXfc4evWAADAFQgPD1dISIiuu+46TZ48WXfeeaevW6oz/DIAbtiwQdOnT9eJEyd01VVX6fjx4woMDFRYWJgOHz6sAwcO+LpFAABQRXa7XS1btlTXrl317LPP6uabb/Z1S3WW3wXAf/7zn15X+AIAgPopJiZG7du319GjR+V0OrV27Vq/vrK3KvwqAB44cICrdwEAqKccDockqaCgQJLUtGlTtWjRQh988IGCg4N92Vq941dXAX/xxReKj4/XsWPH1KhRI33//fe+bgkAAFwhm82m3bt3q3379pJUpRtu+yu/CYBl3/CxZ88e5eTkKDw8XLt379Zjjz2mU6dO+bo9AABQBUFBQSosLLReh4aGKj8/34cd1S8NPgCWXeUr/fAVMEVFRSotLdWZM2dUUFCgo0ePasiQIfruu+983CkAAKiM6OhoDRkyRIsXL9bZs2dljFFQUJB1ahiX1qA/A/jRRx/pscceU0ZGhhp4zgUAwG/k5OSooKDA67t+GzdurDNnzvBZwEpqsEcA33//fd11112+bgMAANSCN954Q4888oiv26g3GmQALCwsVNu2bXX06FFftwIAAGrYSy+9pGeeecbXbdQrDfIUsN1u5zN9AAA0MAMGDJAkHTlyRI0bN9aPfvQjPfroo7rtttt83Fn90yCPAEpS69atdejQIV+3AQAAqonNZtPXX3+tNm3a+LqVes/u6waqW2lpqUpKSpSUlOTrVgAAQDUyxujjjz/2dRsNQoMLgHa7XY0aNdLPfvYz/ehHP/J1OwAAoBpxr7/q0eACoCSdOnVKpaWl+vDDDzlMDABAA9KzZ09ft9Ag1PsAWHbKt+y/Z86ckc1m0/bt2/XYY48pPDxcoaGhvm4TAABcoZ///Ofq06ePr9toEOrtVcDZ2dnKy8vTyZMndfLkSQUHB6uoqEgFBQX6+uuv9bOf/czXLQIAgCqy2WyKiIhQUFCQjDGy2+3q2rWrxo4dq2HDhvm6vQajXgbAZcuWafTo0Tpz5oyvWwEAANUkLCxMOTk5Xt/wgZpR724Ds3btWt1+++2+bgMAAFyh6OhotWzZUpmZmQoJCdHOnTsVFBTk67b8Qr07Avjqq6/KZrPJGGP9FwAA1H02m02NGjVScXGxAgIC9LOf/Uzt27fX3Xff7evW/E69OwLYv39/rVmzhgAIAEAD4Xa7tWHDBu7cUYvq3VXAN954oxX6CH8AANR/x44d0+TJk33dhl+pd0cAz549q3bt2unYsWO+bgUAAFST5s2bKzs729dt+I06fQRww4YNuuWWW+RwOGSz2WSz2RQcHEz4AwCgnrLZbOWe22w2dezY0Vct+aX/D1Xo6MSfu8XvAAAAAElFTkSuQmCC' width=640.0/>\n",
       "            </div>\n",
       "        "
      ],
      "text/plain": [
       "Canvas(toolbar=Toolbar(toolitems=[('Home', 'Reset original view', 'home', 'home'), ('Back', 'Back to previous …"
      ]
     },
     "metadata": {},
     "output_type": "display_data"
    }
   ],
   "source": [
    "# Graph the cumulative deaths in Italy\n",
    "# Configure plot, figsize, title, and axis labels\n",
    "figure_italy = italy_cum_deaths.plot(kind ='bar', facecolor = 'red',\n",
    "                                   title = \"Cumulative Deaths in Italy\",\n",
    "                                   xlabel='Date Reported',\n",
    "                                   ylabel='Cumulative Deaths')\n",
    "\n",
    "# Configure x-tick rotation\n",
    "xticklables = italy_who_data.index.strftime('%Y-%m-%d')\n",
    "figure_italy.set_xticklabels(xticklables, rotation=45, rotation_mode='anchor', ha='right', wrap=True)\n",
    "\n",
    "plt.show()"
   ]
  },
  {
   "cell_type": "code",
   "execution_count": 19,
   "metadata": {},
   "outputs": [
    {
     "data": {
      "text/html": [
       "<div>\n",
       "<style scoped>\n",
       "    .dataframe tbody tr th:only-of-type {\n",
       "        vertical-align: middle;\n",
       "    }\n",
       "\n",
       "    .dataframe tbody tr th {\n",
       "        vertical-align: top;\n",
       "    }\n",
       "\n",
       "    .dataframe thead th {\n",
       "        text-align: right;\n",
       "    }\n",
       "</style>\n",
       "<table border=\"1\" class=\"dataframe\">\n",
       "  <thead>\n",
       "    <tr style=\"text-align: right;\">\n",
       "      <th></th>\n",
       "      <th>Date_reported</th>\n",
       "      <th>Country</th>\n",
       "      <th>Cumulative_cases</th>\n",
       "      <th>New_deaths</th>\n",
       "      <th>Cumulative_deaths</th>\n",
       "    </tr>\n",
       "  </thead>\n",
       "  <tbody>\n",
       "    <tr>\n",
       "      <th>297190</th>\n",
       "      <td>2020-01-03</td>\n",
       "      <td>United States of America</td>\n",
       "      <td>0</td>\n",
       "      <td>0</td>\n",
       "      <td>0</td>\n",
       "    </tr>\n",
       "    <tr>\n",
       "      <th>297191</th>\n",
       "      <td>2020-01-04</td>\n",
       "      <td>United States of America</td>\n",
       "      <td>0</td>\n",
       "      <td>0</td>\n",
       "      <td>0</td>\n",
       "    </tr>\n",
       "    <tr>\n",
       "      <th>297192</th>\n",
       "      <td>2020-01-05</td>\n",
       "      <td>United States of America</td>\n",
       "      <td>0</td>\n",
       "      <td>0</td>\n",
       "      <td>0</td>\n",
       "    </tr>\n",
       "    <tr>\n",
       "      <th>297193</th>\n",
       "      <td>2020-01-06</td>\n",
       "      <td>United States of America</td>\n",
       "      <td>0</td>\n",
       "      <td>0</td>\n",
       "      <td>0</td>\n",
       "    </tr>\n",
       "    <tr>\n",
       "      <th>297194</th>\n",
       "      <td>2020-01-07</td>\n",
       "      <td>United States of America</td>\n",
       "      <td>0</td>\n",
       "      <td>0</td>\n",
       "      <td>0</td>\n",
       "    </tr>\n",
       "    <tr>\n",
       "      <th>...</th>\n",
       "      <td>...</td>\n",
       "      <td>...</td>\n",
       "      <td>...</td>\n",
       "      <td>...</td>\n",
       "      <td>...</td>\n",
       "    </tr>\n",
       "    <tr>\n",
       "      <th>298500</th>\n",
       "      <td>2023-08-05</td>\n",
       "      <td>United States of America</td>\n",
       "      <td>103436829</td>\n",
       "      <td>0</td>\n",
       "      <td>1127152</td>\n",
       "    </tr>\n",
       "    <tr>\n",
       "      <th>298501</th>\n",
       "      <td>2023-08-06</td>\n",
       "      <td>United States of America</td>\n",
       "      <td>103436829</td>\n",
       "      <td>0</td>\n",
       "      <td>1127152</td>\n",
       "    </tr>\n",
       "    <tr>\n",
       "      <th>298502</th>\n",
       "      <td>2023-08-07</td>\n",
       "      <td>United States of America</td>\n",
       "      <td>103436829</td>\n",
       "      <td>0</td>\n",
       "      <td>1127152</td>\n",
       "    </tr>\n",
       "    <tr>\n",
       "      <th>298503</th>\n",
       "      <td>2023-08-08</td>\n",
       "      <td>United States of America</td>\n",
       "      <td>103436829</td>\n",
       "      <td>0</td>\n",
       "      <td>1127152</td>\n",
       "    </tr>\n",
       "    <tr>\n",
       "      <th>298504</th>\n",
       "      <td>2023-08-09</td>\n",
       "      <td>United States of America</td>\n",
       "      <td>103436829</td>\n",
       "      <td>0</td>\n",
       "      <td>1127152</td>\n",
       "    </tr>\n",
       "  </tbody>\n",
       "</table>\n",
       "<p>1315 rows × 5 columns</p>\n",
       "</div>"
      ],
      "text/plain": [
       "       Date_reported                   Country  Cumulative_cases  New_deaths  \\\n",
       "297190    2020-01-03  United States of America                 0           0   \n",
       "297191    2020-01-04  United States of America                 0           0   \n",
       "297192    2020-01-05  United States of America                 0           0   \n",
       "297193    2020-01-06  United States of America                 0           0   \n",
       "297194    2020-01-07  United States of America                 0           0   \n",
       "...              ...                       ...               ...         ...   \n",
       "298500    2023-08-05  United States of America         103436829           0   \n",
       "298501    2023-08-06  United States of America         103436829           0   \n",
       "298502    2023-08-07  United States of America         103436829           0   \n",
       "298503    2023-08-08  United States of America         103436829           0   \n",
       "298504    2023-08-09  United States of America         103436829           0   \n",
       "\n",
       "        Cumulative_deaths  \n",
       "297190                  0  \n",
       "297191                  0  \n",
       "297192                  0  \n",
       "297193                  0  \n",
       "297194                  0  \n",
       "...                   ...  \n",
       "298500            1127152  \n",
       "298501            1127152  \n",
       "298502            1127152  \n",
       "298503            1127152  \n",
       "298504            1127152  \n",
       "\n",
       "[1315 rows x 5 columns]"
      ]
     },
     "execution_count": 19,
     "metadata": {},
     "output_type": "execute_result"
    }
   ],
   "source": [
    "us_who_data = cleaned_who_data[cleaned_who_data['Country']=='United States of America']\n",
    "us_who_data\n"
   ]
  },
  {
   "cell_type": "code",
   "execution_count": 29,
   "metadata": {},
   "outputs": [
    {
     "data": {
      "text/plain": [
       "68840672660"
      ]
     },
     "execution_count": 29,
     "metadata": {},
     "output_type": "execute_result"
    }
   ],
   "source": [
    "us_who_data_mean = us_who_data['Cumulative_cases'].sum()\n",
    "us_who_data_mean"
   ]
  },
  {
   "cell_type": "code",
   "execution_count": 30,
   "metadata": {},
   "outputs": [
    {
     "data": {
      "text/plain": [
       "882624633"
      ]
     },
     "execution_count": 30,
     "metadata": {},
     "output_type": "execute_result"
    }
   ],
   "source": [
    "us_who_data_deaths = us_who_data['Cumulative_deaths'].sum()\n",
    "us_who_data_deaths"
   ]
  },
  {
   "cell_type": "code",
   "execution_count": 46,
   "metadata": {},
   "outputs": [
    {
     "data": {
      "text/plain": [
       "Date_reported        2020-01-032020-01-042020-01-052020-01-062020-0...\n",
       "Country              ChinaChinaChinaChinaChinaChinaChinaChinaChinaC...\n",
       "Cumulative_cases                                           24225052018\n",
       "New_deaths                                                      121628\n",
       "Cumulative_deaths                                             36392942\n",
       "dtype: object"
      ]
     },
     "execution_count": 46,
     "metadata": {},
     "output_type": "execute_result"
    }
   ],
   "source": [
    "china_who_data = cleaned_who_data[cleaned_who_data['Country']=='China']\n",
    "china_who_data.sum()"
   ]
  },
  {
   "cell_type": "code",
   "execution_count": 47,
   "metadata": {},
   "outputs": [
    {
     "data": {
      "text/plain": [
       "24225052018"
      ]
     },
     "execution_count": 47,
     "metadata": {},
     "output_type": "execute_result"
    }
   ],
   "source": [
    "china_who_data['Cumulative_cases'].sum()\n"
   ]
  },
  {
   "cell_type": "code",
   "execution_count": 48,
   "metadata": {},
   "outputs": [
    {
     "data": {
      "text/plain": [
       "36392942"
      ]
     },
     "execution_count": 48,
     "metadata": {},
     "output_type": "execute_result"
    }
   ],
   "source": [
    "china_who_data['Cumulative_deaths'].sum()"
   ]
  }
 ],
 "metadata": {
  "kernelspec": {
   "display_name": "dev",
   "language": "python",
   "name": "python3"
  },
  "language_info": {
   "codemirror_mode": {
    "name": "ipython",
    "version": 3
   },
   "file_extension": ".py",
   "mimetype": "text/x-python",
   "name": "python",
   "nbconvert_exporter": "python",
   "pygments_lexer": "ipython3",
   "version": "3.10.12"
  },
  "orig_nbformat": 4
 },
 "nbformat": 4,
 "nbformat_minor": 2
}
