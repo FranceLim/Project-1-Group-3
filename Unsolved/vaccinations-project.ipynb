{
 "cells": [
  {
   "cell_type": "code",
   "execution_count": 72,
   "metadata": {},
   "outputs": [],
   "source": [
    "# Dependencies and Setup\n",
    "import matplotlib.pyplot as plt \n",
    "import numpy as np \n",
    "import pandas as pd\n",
    "from pathlib import Path"
   ]
  },
  {
   "cell_type": "code",
   "execution_count": 73,
   "metadata": {},
   "outputs": [
    {
     "data": {
      "text/html": [
       "<div>\n",
       "<style scoped>\n",
       "    .dataframe tbody tr th:only-of-type {\n",
       "        vertical-align: middle;\n",
       "    }\n",
       "\n",
       "    .dataframe tbody tr th {\n",
       "        vertical-align: top;\n",
       "    }\n",
       "\n",
       "    .dataframe thead th {\n",
       "        text-align: right;\n",
       "    }\n",
       "</style>\n",
       "<table border=\"1\" class=\"dataframe\">\n",
       "  <thead>\n",
       "    <tr style=\"text-align: right;\">\n",
       "      <th></th>\n",
       "      <th>COUNTRY</th>\n",
       "      <th>ISO3</th>\n",
       "      <th>WHO_REGION</th>\n",
       "      <th>DATA_SOURCE</th>\n",
       "      <th>DATE_UPDATED</th>\n",
       "      <th>TOTAL_VACCINATIONS</th>\n",
       "      <th>PERSONS_VACCINATED_1PLUS_DOSE</th>\n",
       "      <th>TOTAL_VACCINATIONS_PER100</th>\n",
       "      <th>PERSONS_VACCINATED_1PLUS_DOSE_PER100</th>\n",
       "      <th>PERSONS_LAST_DOSE</th>\n",
       "      <th>PERSONS_LAST_DOSE_PER100</th>\n",
       "      <th>VACCINES_USED</th>\n",
       "      <th>FIRST_VACCINE_DATE</th>\n",
       "      <th>NUMBER_VACCINES_TYPES_USED</th>\n",
       "      <th>PERSONS_BOOSTER_ADD_DOSE</th>\n",
       "      <th>PERSONS_BOOSTER_ADD_DOSE_PER100</th>\n",
       "    </tr>\n",
       "  </thead>\n",
       "  <tbody>\n",
       "    <tr>\n",
       "      <th>0</th>\n",
       "      <td>Argentina</td>\n",
       "      <td>ARG</td>\n",
       "      <td>AMRO</td>\n",
       "      <td>REPORTING</td>\n",
       "      <td>2022-10-07</td>\n",
       "      <td>109652736.0</td>\n",
       "      <td>41324100</td>\n",
       "      <td>242.617</td>\n",
       "      <td>91.434</td>\n",
       "      <td>37840119</td>\n",
       "      <td>83.725</td>\n",
       "      <td>NaN</td>\n",
       "      <td>2020-12-29</td>\n",
       "      <td>7.0</td>\n",
       "      <td>30810184.0</td>\n",
       "      <td>68.170</td>\n",
       "    </tr>\n",
       "    <tr>\n",
       "      <th>1</th>\n",
       "      <td>Australia</td>\n",
       "      <td>AUS</td>\n",
       "      <td>WPRO</td>\n",
       "      <td>REPORTING</td>\n",
       "      <td>2023-07-06</td>\n",
       "      <td>68247343.0</td>\n",
       "      <td>22216819</td>\n",
       "      <td>267.638</td>\n",
       "      <td>87.125</td>\n",
       "      <td>21627933</td>\n",
       "      <td>84.816</td>\n",
       "      <td>NaN</td>\n",
       "      <td>2021-02-21</td>\n",
       "      <td>5.0</td>\n",
       "      <td>14406392.0</td>\n",
       "      <td>56.496</td>\n",
       "    </tr>\n",
       "    <tr>\n",
       "      <th>2</th>\n",
       "      <td>Bahrain</td>\n",
       "      <td>BHR</td>\n",
       "      <td>EMRO</td>\n",
       "      <td>REPORTING</td>\n",
       "      <td>2022-12-21</td>\n",
       "      <td>3476633.0</td>\n",
       "      <td>1241174</td>\n",
       "      <td>204.319</td>\n",
       "      <td>72.943</td>\n",
       "      <td>1226796</td>\n",
       "      <td>72.098</td>\n",
       "      <td>NaN</td>\n",
       "      <td>2020-11-04</td>\n",
       "      <td>11.0</td>\n",
       "      <td>1008663.0</td>\n",
       "      <td>59.278</td>\n",
       "    </tr>\n",
       "    <tr>\n",
       "      <th>3</th>\n",
       "      <td>British Virgin Islands</td>\n",
       "      <td>VGB</td>\n",
       "      <td>AMRO</td>\n",
       "      <td>REPORTING</td>\n",
       "      <td>2023-06-02</td>\n",
       "      <td>41453.0</td>\n",
       "      <td>19466</td>\n",
       "      <td>137.094</td>\n",
       "      <td>64.378</td>\n",
       "      <td>18261</td>\n",
       "      <td>60.393</td>\n",
       "      <td>NaN</td>\n",
       "      <td>2021-02-11</td>\n",
       "      <td>3.0</td>\n",
       "      <td>3726.0</td>\n",
       "      <td>12.323</td>\n",
       "    </tr>\n",
       "    <tr>\n",
       "      <th>4</th>\n",
       "      <td>Egypt</td>\n",
       "      <td>EGY</td>\n",
       "      <td>EMRO</td>\n",
       "      <td>REPORTING</td>\n",
       "      <td>2023-05-21</td>\n",
       "      <td>112673535.0</td>\n",
       "      <td>56907319</td>\n",
       "      <td>110.103</td>\n",
       "      <td>55.609</td>\n",
       "      <td>42337175</td>\n",
       "      <td>41.371</td>\n",
       "      <td>NaN</td>\n",
       "      <td>2021-01-24</td>\n",
       "      <td>10.0</td>\n",
       "      <td>15217352.0</td>\n",
       "      <td>14.870</td>\n",
       "    </tr>\n",
       "  </tbody>\n",
       "</table>\n",
       "</div>"
      ],
      "text/plain": [
       "                  COUNTRY ISO3 WHO_REGION DATA_SOURCE DATE_UPDATED  \\\n",
       "0               Argentina  ARG       AMRO   REPORTING   2022-10-07   \n",
       "1               Australia  AUS       WPRO   REPORTING   2023-07-06   \n",
       "2                 Bahrain  BHR       EMRO   REPORTING   2022-12-21   \n",
       "3  British Virgin Islands  VGB       AMRO   REPORTING   2023-06-02   \n",
       "4                   Egypt  EGY       EMRO   REPORTING   2023-05-21   \n",
       "\n",
       "   TOTAL_VACCINATIONS  PERSONS_VACCINATED_1PLUS_DOSE  \\\n",
       "0         109652736.0                       41324100   \n",
       "1          68247343.0                       22216819   \n",
       "2           3476633.0                        1241174   \n",
       "3             41453.0                          19466   \n",
       "4         112673535.0                       56907319   \n",
       "\n",
       "   TOTAL_VACCINATIONS_PER100  PERSONS_VACCINATED_1PLUS_DOSE_PER100  \\\n",
       "0                    242.617                                91.434   \n",
       "1                    267.638                                87.125   \n",
       "2                    204.319                                72.943   \n",
       "3                    137.094                                64.378   \n",
       "4                    110.103                                55.609   \n",
       "\n",
       "   PERSONS_LAST_DOSE  PERSONS_LAST_DOSE_PER100  VACCINES_USED  \\\n",
       "0           37840119                    83.725            NaN   \n",
       "1           21627933                    84.816            NaN   \n",
       "2            1226796                    72.098            NaN   \n",
       "3              18261                    60.393            NaN   \n",
       "4           42337175                    41.371            NaN   \n",
       "\n",
       "  FIRST_VACCINE_DATE  NUMBER_VACCINES_TYPES_USED  PERSONS_BOOSTER_ADD_DOSE  \\\n",
       "0         2020-12-29                         7.0                30810184.0   \n",
       "1         2021-02-21                         5.0                14406392.0   \n",
       "2         2020-11-04                        11.0                 1008663.0   \n",
       "3         2021-02-11                         3.0                    3726.0   \n",
       "4         2021-01-24                        10.0                15217352.0   \n",
       "\n",
       "   PERSONS_BOOSTER_ADD_DOSE_PER100  \n",
       "0                           68.170  \n",
       "1                           56.496  \n",
       "2                           59.278  \n",
       "3                           12.323  \n",
       "4                           14.870  "
      ]
     },
     "execution_count": 73,
     "metadata": {},
     "output_type": "execute_result"
    }
   ],
   "source": [
    "# Load file\n",
    "csv = Path(\"/Users/sukhikaur/Desktop/UCI Class Analysis/vaccination-data.csv\")\n",
    "\n",
    "# Read dataset\n",
    "who_data = pd.read_csv(csv)\n",
    "who_data.head()"
   ]
  },
  {
   "cell_type": "code",
   "execution_count": 74,
   "metadata": {},
   "outputs": [
    {
     "data": {
      "text/html": [
       "<div>\n",
       "<style scoped>\n",
       "    .dataframe tbody tr th:only-of-type {\n",
       "        vertical-align: middle;\n",
       "    }\n",
       "\n",
       "    .dataframe tbody tr th {\n",
       "        vertical-align: top;\n",
       "    }\n",
       "\n",
       "    .dataframe thead th {\n",
       "        text-align: right;\n",
       "    }\n",
       "</style>\n",
       "<table border=\"1\" class=\"dataframe\">\n",
       "  <thead>\n",
       "    <tr style=\"text-align: right;\">\n",
       "      <th></th>\n",
       "      <th>DATE_UPDATED</th>\n",
       "      <th>COUNTRY</th>\n",
       "      <th>TOTAL_VACCINATIONS</th>\n",
       "      <th>PERSONS_BOOSTER_ADD_DOSE</th>\n",
       "      <th>VACCINES_USED</th>\n",
       "    </tr>\n",
       "  </thead>\n",
       "  <tbody>\n",
       "    <tr>\n",
       "      <th>0</th>\n",
       "      <td>2022-10-07</td>\n",
       "      <td>Argentina</td>\n",
       "      <td>109652736.0</td>\n",
       "      <td>30810184.0</td>\n",
       "      <td>NaN</td>\n",
       "    </tr>\n",
       "    <tr>\n",
       "      <th>1</th>\n",
       "      <td>2023-07-06</td>\n",
       "      <td>Australia</td>\n",
       "      <td>68247343.0</td>\n",
       "      <td>14406392.0</td>\n",
       "      <td>NaN</td>\n",
       "    </tr>\n",
       "    <tr>\n",
       "      <th>2</th>\n",
       "      <td>2022-12-21</td>\n",
       "      <td>Bahrain</td>\n",
       "      <td>3476633.0</td>\n",
       "      <td>1008663.0</td>\n",
       "      <td>NaN</td>\n",
       "    </tr>\n",
       "    <tr>\n",
       "      <th>3</th>\n",
       "      <td>2023-06-02</td>\n",
       "      <td>British Virgin Islands</td>\n",
       "      <td>41453.0</td>\n",
       "      <td>3726.0</td>\n",
       "      <td>NaN</td>\n",
       "    </tr>\n",
       "    <tr>\n",
       "      <th>4</th>\n",
       "      <td>2023-05-21</td>\n",
       "      <td>Egypt</td>\n",
       "      <td>112673535.0</td>\n",
       "      <td>15217352.0</td>\n",
       "      <td>NaN</td>\n",
       "    </tr>\n",
       "    <tr>\n",
       "      <th>...</th>\n",
       "      <td>...</td>\n",
       "      <td>...</td>\n",
       "      <td>...</td>\n",
       "      <td>...</td>\n",
       "      <td>...</td>\n",
       "    </tr>\n",
       "    <tr>\n",
       "      <th>224</th>\n",
       "      <td>2023-06-11</td>\n",
       "      <td>Spain</td>\n",
       "      <td>112837406.0</td>\n",
       "      <td>26563654.0</td>\n",
       "      <td>NaN</td>\n",
       "    </tr>\n",
       "    <tr>\n",
       "      <th>225</th>\n",
       "      <td>2023-06-11</td>\n",
       "      <td>Switzerland</td>\n",
       "      <td>16755470.0</td>\n",
       "      <td>4996200.0</td>\n",
       "      <td>NaN</td>\n",
       "    </tr>\n",
       "    <tr>\n",
       "      <th>226</th>\n",
       "      <td>2023-04-18</td>\n",
       "      <td>Syrian Arab Republic</td>\n",
       "      <td>5090630.0</td>\n",
       "      <td>75881.0</td>\n",
       "      <td>NaN</td>\n",
       "    </tr>\n",
       "    <tr>\n",
       "      <th>227</th>\n",
       "      <td>2023-06-26</td>\n",
       "      <td>Timor-Leste</td>\n",
       "      <td>2019384.0</td>\n",
       "      <td>335563.0</td>\n",
       "      <td>NaN</td>\n",
       "    </tr>\n",
       "    <tr>\n",
       "      <th>228</th>\n",
       "      <td>2023-06-30</td>\n",
       "      <td>Viet Nam</td>\n",
       "      <td>266492149.0</td>\n",
       "      <td>57975220.0</td>\n",
       "      <td>NaN</td>\n",
       "    </tr>\n",
       "  </tbody>\n",
       "</table>\n",
       "<p>229 rows × 5 columns</p>\n",
       "</div>"
      ],
      "text/plain": [
       "    DATE_UPDATED                 COUNTRY  TOTAL_VACCINATIONS  \\\n",
       "0     2022-10-07               Argentina         109652736.0   \n",
       "1     2023-07-06               Australia          68247343.0   \n",
       "2     2022-12-21                 Bahrain           3476633.0   \n",
       "3     2023-06-02  British Virgin Islands             41453.0   \n",
       "4     2023-05-21                   Egypt         112673535.0   \n",
       "..           ...                     ...                 ...   \n",
       "224   2023-06-11                   Spain         112837406.0   \n",
       "225   2023-06-11             Switzerland          16755470.0   \n",
       "226   2023-04-18    Syrian Arab Republic           5090630.0   \n",
       "227   2023-06-26             Timor-Leste           2019384.0   \n",
       "228   2023-06-30                Viet Nam         266492149.0   \n",
       "\n",
       "     PERSONS_BOOSTER_ADD_DOSE  VACCINES_USED  \n",
       "0                  30810184.0            NaN  \n",
       "1                  14406392.0            NaN  \n",
       "2                   1008663.0            NaN  \n",
       "3                      3726.0            NaN  \n",
       "4                  15217352.0            NaN  \n",
       "..                        ...            ...  \n",
       "224                26563654.0            NaN  \n",
       "225                 4996200.0            NaN  \n",
       "226                   75881.0            NaN  \n",
       "227                  335563.0            NaN  \n",
       "228                57975220.0            NaN  \n",
       "\n",
       "[229 rows x 5 columns]"
      ]
     },
     "execution_count": 74,
     "metadata": {},
     "output_type": "execute_result"
    }
   ],
   "source": [
    "# Clean data using headers\n",
    "cleaned_who_data = who_data.set_index('DATE_UPDATED')\n",
    "cleaned_who_data = who_data[['DATE_UPDATED', 'COUNTRY', 'TOTAL_VACCINATIONS', 'PERSONS_BOOSTER_ADD_DOSE', 'VACCINES_USED']]\n",
    "cleaned_who_data"
   ]
  },
  {
   "cell_type": "code",
   "execution_count": 75,
   "metadata": {},
   "outputs": [
    {
     "data": {
      "text/html": [
       "<div>\n",
       "<style scoped>\n",
       "    .dataframe tbody tr th:only-of-type {\n",
       "        vertical-align: middle;\n",
       "    }\n",
       "\n",
       "    .dataframe tbody tr th {\n",
       "        vertical-align: top;\n",
       "    }\n",
       "\n",
       "    .dataframe thead th {\n",
       "        text-align: right;\n",
       "    }\n",
       "</style>\n",
       "<table border=\"1\" class=\"dataframe\">\n",
       "  <thead>\n",
       "    <tr style=\"text-align: right;\">\n",
       "      <th></th>\n",
       "      <th>DATE_UPDATED</th>\n",
       "      <th>COUNTRY</th>\n",
       "      <th>TOTAL_VACCINATIONS</th>\n",
       "      <th>PERSONS_BOOSTER_ADD_DOSE</th>\n",
       "      <th>VACCINES_USED</th>\n",
       "    </tr>\n",
       "  </thead>\n",
       "  <tbody>\n",
       "    <tr>\n",
       "      <th>24</th>\n",
       "      <td>2023-06-02</td>\n",
       "      <td>United States of America</td>\n",
       "      <td>668882018.0</td>\n",
       "      <td>116629517.0</td>\n",
       "      <td>NaN</td>\n",
       "    </tr>\n",
       "  </tbody>\n",
       "</table>\n",
       "</div>"
      ],
      "text/plain": [
       "   DATE_UPDATED                   COUNTRY  TOTAL_VACCINATIONS  \\\n",
       "24   2023-06-02  United States of America         668882018.0   \n",
       "\n",
       "    PERSONS_BOOSTER_ADD_DOSE  VACCINES_USED  \n",
       "24               116629517.0            NaN  "
      ]
     },
     "execution_count": 75,
     "metadata": {},
     "output_type": "execute_result"
    }
   ],
   "source": [
    "# United States' vaccination rate\n",
    "us_who_data = cleaned_who_data[cleaned_who_data['COUNTRY']=='United States of America']\n",
    "us_who_data.head()"
   ]
  },
  {
   "cell_type": "code",
   "execution_count": 96,
   "metadata": {},
   "outputs": [
    {
     "data": {
      "text/plain": [
       "668882018.0"
      ]
     },
     "execution_count": 96,
     "metadata": {},
     "output_type": "execute_result"
    }
   ],
   "source": [
    "us_who_data['TOTAL_VACCINATIONS'].sum()"
   ]
  },
  {
   "cell_type": "code",
   "execution_count": 77,
   "metadata": {},
   "outputs": [
    {
     "data": {
      "text/plain": [
       "116629517.0"
      ]
     },
     "execution_count": 77,
     "metadata": {},
     "output_type": "execute_result"
    }
   ],
   "source": [
    "us_who_data['PERSONS_BOOSTER_ADD_DOSE'].sum()"
   ]
  },
  {
   "cell_type": "code",
   "execution_count": 99,
   "metadata": {},
   "outputs": [
    {
     "data": {
      "image/png": "[encoded data removed]",
      "text/plain": [
       "<Figure size 640x480 with 1 Axes>"
      ]
     },
     "metadata": {},
     "output_type": "display_data"
    }
   ],
   "source": [
    "bar_chart = us_who_data.plot.bar(color='r')\n",
    "plt.xlabel(\"United States of America\")\n",
    "plt.ylabel(\"Rate of Vaccination\")\n",
    "plt.title(\"Total Vaccination Rate in United States of America\")\n",
    "plt.show()"
   ]
  },
  {
   "cell_type": "code",
   "execution_count": 78,
   "metadata": {},
   "outputs": [
    {
     "data": {
      "text/plain": [
       "24   NaN\n",
       "Name: VACCINES_USED, dtype: float64"
      ]
     },
     "execution_count": 78,
     "metadata": {},
     "output_type": "execute_result"
    }
   ],
   "source": [
    "us_who_vaccine_type = us_who_data['VACCINES_USED']\n",
    "us_who_vaccine_type.head()"
   ]
  },
  {
   "cell_type": "code",
   "execution_count": 79,
   "metadata": {},
   "outputs": [
    {
     "data": {
      "text/html": [
       "<div>\n",
       "<style scoped>\n",
       "    .dataframe tbody tr th:only-of-type {\n",
       "        vertical-align: middle;\n",
       "    }\n",
       "\n",
       "    .dataframe tbody tr th {\n",
       "        vertical-align: top;\n",
       "    }\n",
       "\n",
       "    .dataframe thead th {\n",
       "        text-align: right;\n",
       "    }\n",
       "</style>\n",
       "<table border=\"1\" class=\"dataframe\">\n",
       "  <thead>\n",
       "    <tr style=\"text-align: right;\">\n",
       "      <th></th>\n",
       "      <th>DATE_UPDATED</th>\n",
       "      <th>COUNTRY</th>\n",
       "      <th>TOTAL_VACCINATIONS</th>\n",
       "      <th>PERSONS_BOOSTER_ADD_DOSE</th>\n",
       "      <th>VACCINES_USED</th>\n",
       "    </tr>\n",
       "  </thead>\n",
       "  <tbody>\n",
       "    <tr>\n",
       "      <th>209</th>\n",
       "      <td>2023-06-11</td>\n",
       "      <td>Italy</td>\n",
       "      <td>150317622.0</td>\n",
       "      <td>44916242.0</td>\n",
       "      <td>NaN</td>\n",
       "    </tr>\n",
       "  </tbody>\n",
       "</table>\n",
       "</div>"
      ],
      "text/plain": [
       "    DATE_UPDATED COUNTRY  TOTAL_VACCINATIONS  PERSONS_BOOSTER_ADD_DOSE  \\\n",
       "209   2023-06-11   Italy         150317622.0                44916242.0   \n",
       "\n",
       "     VACCINES_USED  \n",
       "209            NaN  "
      ]
     },
     "execution_count": 79,
     "metadata": {},
     "output_type": "execute_result"
    }
   ],
   "source": [
    "# Italy's vaccination rate\n",
    "italy_who_data = cleaned_who_data[cleaned_who_data['COUNTRY']=='Italy']\n",
    "italy_who_data.head()"
   ]
  },
  {
   "cell_type": "code",
   "execution_count": 82,
   "metadata": {},
   "outputs": [
    {
     "data": {
      "text/plain": [
       "150317622.0"
      ]
     },
     "execution_count": 82,
     "metadata": {},
     "output_type": "execute_result"
    }
   ],
   "source": [
    "italy_who_data['TOTAL_VACCINATIONS'].sum()"
   ]
  },
  {
   "cell_type": "code",
   "execution_count": 84,
   "metadata": {},
   "outputs": [
    {
     "data": {
      "text/plain": [
       "44916242.0"
      ]
     },
     "execution_count": 84,
     "metadata": {},
     "output_type": "execute_result"
    }
   ],
   "source": [
    "italy_who_data['PERSONS_BOOSTER_ADD_DOSE'].sum()"
   ]
  },
  {
   "cell_type": "code",
   "execution_count": 100,
   "metadata": {},
   "outputs": [
    {
     "data": {
      "image/png": "[encoded data removed]",
      "text/plain": [
       "<Figure size 640x480 with 1 Axes>"
      ]
     },
     "metadata": {},
     "output_type": "display_data"
    }
   ],
   "source": [
    "bar_chart = italy_who_data.plot.bar(color='b')\n",
    "plt.xlabel(\"Italy\")\n",
    "plt.ylabel(\"Rate of Vaccination\")\n",
    "plt.title(\"Total Vaccination Rate in Italy\")\n",
    "plt.show()"
   ]
  },
  {
   "cell_type": "code",
   "execution_count": 86,
   "metadata": {},
   "outputs": [
    {
     "data": {
      "text/plain": [
       "209   NaN\n",
       "Name: VACCINES_USED, dtype: float64"
      ]
     },
     "execution_count": 86,
     "metadata": {},
     "output_type": "execute_result"
    }
   ],
   "source": [
    "italy_who_vaccine_type = italy_who_data['VACCINES_USED']\n",
    "italy_who_vaccine_type.head()"
   ]
  },
  {
   "cell_type": "code",
   "execution_count": 80,
   "metadata": {},
   "outputs": [
    {
     "data": {
      "text/html": [
       "<div>\n",
       "<style scoped>\n",
       "    .dataframe tbody tr th:only-of-type {\n",
       "        vertical-align: middle;\n",
       "    }\n",
       "\n",
       "    .dataframe tbody tr th {\n",
       "        vertical-align: top;\n",
       "    }\n",
       "\n",
       "    .dataframe thead th {\n",
       "        text-align: right;\n",
       "    }\n",
       "</style>\n",
       "<table border=\"1\" class=\"dataframe\">\n",
       "  <thead>\n",
       "    <tr style=\"text-align: right;\">\n",
       "      <th></th>\n",
       "      <th>DATE_UPDATED</th>\n",
       "      <th>COUNTRY</th>\n",
       "      <th>TOTAL_VACCINATIONS</th>\n",
       "      <th>PERSONS_BOOSTER_ADD_DOSE</th>\n",
       "      <th>VACCINES_USED</th>\n",
       "    </tr>\n",
       "  </thead>\n",
       "  <tbody>\n",
       "    <tr>\n",
       "      <th>183</th>\n",
       "      <td>2023-03-23</td>\n",
       "      <td>China</td>\n",
       "      <td>3.515873e+09</td>\n",
       "      <td>833820382.0</td>\n",
       "      <td>NaN</td>\n",
       "    </tr>\n",
       "  </tbody>\n",
       "</table>\n",
       "</div>"
      ],
      "text/plain": [
       "    DATE_UPDATED COUNTRY  TOTAL_VACCINATIONS  PERSONS_BOOSTER_ADD_DOSE  \\\n",
       "183   2023-03-23   China        3.515873e+09               833820382.0   \n",
       "\n",
       "     VACCINES_USED  \n",
       "183            NaN  "
      ]
     },
     "execution_count": 80,
     "metadata": {},
     "output_type": "execute_result"
    }
   ],
   "source": [
    "# China's vaccination rate\n",
    "china_who_data = cleaned_who_data[cleaned_who_data['COUNTRY']=='China']\n",
    "china_who_data.head()"
   ]
  },
  {
   "cell_type": "code",
   "execution_count": 87,
   "metadata": {},
   "outputs": [
    {
     "data": {
      "text/plain": [
       "3515872818.0"
      ]
     },
     "execution_count": 87,
     "metadata": {},
     "output_type": "execute_result"
    }
   ],
   "source": [
    "china_who_data['TOTAL_VACCINATIONS'].sum()"
   ]
  },
  {
   "cell_type": "code",
   "execution_count": 88,
   "metadata": {},
   "outputs": [
    {
     "data": {
      "text/plain": [
       "833820382.0"
      ]
     },
     "execution_count": 88,
     "metadata": {},
     "output_type": "execute_result"
    }
   ],
   "source": [
    "china_who_data['PERSONS_BOOSTER_ADD_DOSE'].sum()"
   ]
  },
  {
   "cell_type": "code",
   "execution_count": 101,
   "metadata": {},
   "outputs": [
    {
     "data": {
      "image/png": "[encoded data removed]",
      "text/plain": [
       "<Figure size 640x480 with 1 Axes>"
      ]
     },
     "metadata": {},
     "output_type": "display_data"
    }
   ],
   "source": [
    "bar_chart = china_who_data.plot.bar(color='g')\n",
    "plt.xlabel(\"China\")\n",
    "plt.ylabel(\"Rate of Vaccination\")\n",
    "plt.title(\"Total Vaccination Rate in China\")\n",
    "plt.show()"
   ]
  },
  {
   "cell_type": "code",
   "execution_count": 89,
   "metadata": {},
   "outputs": [
    {
     "data": {
      "text/plain": [
       "183   NaN\n",
       "Name: VACCINES_USED, dtype: float64"
      ]
     },
     "execution_count": 89,
     "metadata": {},
     "output_type": "execute_result"
    }
   ],
   "source": [
    "china_who_vaccine_type = china_who_data['VACCINES_USED']\n",
    "china_who_vaccine_type.head()"
   ]
  },
  {
   "cell_type": "code",
   "execution_count": null,
   "metadata": {},
   "outputs": [],
   "source": []
  }
 ],
 "metadata": {
  "kernelspec": {
   "display_name": "base",
   "language": "python",
   "name": "python3"
  },
  "language_info": {
   "codemirror_mode": {
    "name": "ipython",
    "version": 3
   },
   "file_extension": ".py",
   "mimetype": "text/x-python",
   "name": "python",
   "nbconvert_exporter": "python",
   "pygments_lexer": "ipython3",
   "version": "3.11.3"
  },
  "orig_nbformat": 4
 },
 "nbformat": 4,
 "nbformat_minor": 2
}
